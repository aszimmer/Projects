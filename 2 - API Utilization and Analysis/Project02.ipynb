{
 "cells": [
  {
   "cell_type": "markdown",
   "metadata": {},
   "source": [
    "## API Pull and Analysis"
   ]
  },
  {
   "cell_type": "code",
   "execution_count": 5,
   "metadata": {},
   "outputs": [],
   "source": [
    "import requests\n",
    "import json\n",
    "response_API = requests.get('https://www.reed.co.uk/api/1.0/search?graduate=true')"
   ]
  },
  {
   "cell_type": "code",
   "execution_count": 33,
   "metadata": {},
   "outputs": [],
   "source": [
    "data = response_API.text"
   ]
  },
  {
   "cell_type": "code",
   "execution_count": 34,
   "metadata": {},
   "outputs": [
    {
     "name": "stdout",
     "output_type": "stream",
     "text": [
      "Requirement already satisfied: reed in c:\\users\\alexi\\anaconda3\\lib\\site-packages (0.0.4)\n",
      "Note: you may need to restart the kernel to use updated packages.\n"
     ]
    }
   ],
   "source": [
    "pip install reed"
   ]
  },
  {
   "cell_type": "code",
   "execution_count": 11,
   "metadata": {},
   "outputs": [],
   "source": [
    "from reed import ReedClient\n",
    "\n",
    "client = ReedClient(api_key= '7269a1b6-da90-4144-9cec-c1c8b93326a0')"
   ]
  },
  {
   "cell_type": "code",
   "execution_count": 35,
   "metadata": {},
   "outputs": [],
   "source": [
    "params = {\n",
    "    'graduate' : \"true\" \"false\",\n",
    "    'minimumSalary': 1\n",
    "}"
   ]
  },
  {
   "cell_type": "code",
   "execution_count": 54,
   "metadata": {},
   "outputs": [],
   "source": [
    "response = client.search(**params)"
   ]
  },
  {
   "cell_type": "code",
   "execution_count": 55,
   "metadata": {},
   "outputs": [
    {
     "name": "stdout",
     "output_type": "stream",
     "text": [
      "[{'jobId': 48696813, 'employerId': 451880, 'employerName': 'Corriculo Ltd', 'employerProfileId': None, 'employerProfileName': None, 'jobTitle': 'Data Scientist, Forecasting Analyst, Python, R, Finance, Remote, 4658', 'locationName': 'London', 'minimumSalary': 50000.0, 'maximumSalary': 60000.0, 'currency': 'GBP', 'expirationDate': '12/12/2022', 'date': '31/10/2022', 'jobDescription': ' Data Scientist, Forecasting&nbsp;Analyst, Python, R, Finance, RemoteAn exciting opportunity has arisen for a skilled Data Scientist&nbsp;/ Forecasting Analyst&nbsp;to join a thriving and rapidly growing software house within the games industry. This Data Scientist&nbsp;/ Forecasting Analyst position is operating on a fully remote basis with  opportunities to work in various locations globally, with office space i... ', 'applications': 24, 'jobUrl': 'https://www.reed.co.uk/jobs/data-scientist-forecasting-analyst-python-r-finance-remote-4658/48696813'}, {'jobId': 48648132, 'employerId': 589273, 'employerName': 'Method Resourcing', 'employerProfileId': None, 'employerProfileName': None, 'jobTitle': 'Python Data Analyst Remote', 'locationName': 'London', 'minimumSalary': 50000.0, 'maximumSalary': 65000.0, 'currency': 'GBP', 'expirationDate': '06/12/2022', 'date': '25/10/2022', 'jobDescription': ' Python Data Analyst - Remote-first! Are you looking to take your career in Data Analysis to the next level? Method Resourcing are working with a Search-Intelligence platform to take on a Data Analyst to join their Analytics team, who are currently working with some of the biggest brands in the world! The ideal candidate will have the following skills and abilities:  2&#43; years of experience using Python (sp... ', 'applications': 46, 'jobUrl': 'https://www.reed.co.uk/jobs/python-data-analyst-remote/48648132'}, {'jobId': 48775895, 'employerId': 520034, 'employerName': 'Sanderson', 'employerProfileId': None, 'employerProfileName': None, 'jobTitle': 'GIS Data Analyst - Start Up - Fully Remote', 'locationName': 'South West England', 'minimumSalary': 40000.0, 'maximumSalary': 50000.0, 'currency': 'GBP', 'expirationDate': '18/11/2022', 'date': '04/11/2022', 'jobDescription': ' GIS Data Analyst- Start Up- Fully Remote  &#163;40k-&#163;50k &#43; Fantastic Benefits I am working with an exciting, well funded start up SaaS Tech business that are looking to grow significantly over the next 12 months. The GIS Data Analyst will be responsible for collecting, storing, analysing and presenting geographical and spatial information. While working on the spatial data you m... ', 'applications': 6, 'jobUrl': 'https://www.reed.co.uk/jobs/gis-data-analyst-start-up-fully-remote/48775895'}, {'jobId': 48579219, 'employerId': 331522, 'employerName': 'Harnham', 'employerProfileId': None, 'employerProfileName': None, 'jobTitle': 'Marketing Insight Analyst', 'locationName': 'Manchester', 'minimumSalary': 65000.0, 'maximumSalary': 75000.0, 'currency': 'GBP', 'expirationDate': '29/11/2022', 'date': '18/10/2022', 'jobDescription': ' MARKETING INSIGHT ANALYST  &#163;65,000 - 75,000  REMOTE  High growth role in a client facing wellness brand with scope and innovation to change the health and beauty market!  THE COMPANY  A high tech beauty and wellness app that operates across Europe! By bringing together tech and health they have created an innovative product with a team... ', 'applications': 6, 'jobUrl': 'https://www.reed.co.uk/jobs/marketing-insight-analyst/48579219'}, {'jobId': 48495244, 'employerId': 331522, 'employerName': 'Harnham', 'employerProfileId': None, 'employerProfileName': None, 'jobTitle': 'Lead Product Analyst', 'locationName': 'Manchester', 'minimumSalary': 80000.0, 'maximumSalary': 90000.0, 'currency': 'GBP', 'expirationDate': '22/11/2022', 'date': '11/10/2022', 'jobDescription': ' LEAD PRODUCT ANALYST  &#163;70,000 - 80,000  REMOTE  Fintech with tonnes of eternal funding, innovation and the mindset to grow analytics capabilities! Take a role in the fast paced and exciting world of this scale up!  THE COMPANY A leading fintech brand who recently has gone through substantial growth, with such a successful growth ... ', 'applications': 2, 'jobUrl': 'https://www.reed.co.uk/jobs/lead-product-analyst/48495244'}, {'jobId': 48493208, 'employerId': 331522, 'employerName': 'Harnham', 'employerProfileId': None, 'employerProfileName': None, 'jobTitle': 'Analytics Engineer', 'locationName': 'Leeds', 'minimumSalary': 30000.0, 'maximumSalary': 35000.0, 'currency': 'GBP', 'expirationDate': '22/11/2022', 'date': '11/10/2022', 'jobDescription': ' Analytics Engineer Up to &#163;35,000 (remote) Remote Want to work in a company that is dominating its industry? Work with massive amounts of data that are involved with one of the biggest forms of entertainment in the world! If you are an analyst who is looking to build your career and keep an open path this  role is for you! Company: A hu... ', 'applications': 2, 'jobUrl': 'https://www.reed.co.uk/jobs/analytics-engineer/48493208'}, {'jobId': 48493187, 'employerId': 331522, 'employerName': 'Harnham', 'employerProfileId': None, 'employerProfileName': None, 'jobTitle': 'Analytics Engineer', 'locationName': 'Liverpool', 'minimumSalary': 30000.0, 'maximumSalary': 35000.0, 'currency': 'GBP', 'expirationDate': '22/11/2022', 'date': '11/10/2022', 'jobDescription': ' Analytics Engineer Up to &#163;35,000 (remote) Remote Want to work in a company that is dominating its industry? Work with massive amounts of data that are involved with one of the biggest forms of entertainment in the world! If you are an analyst who is looking to build your career and keep an open path this  role is for you! Company: A hu... ', 'applications': 4, 'jobUrl': 'https://www.reed.co.uk/jobs/analytics-engineer/48493187'}, {'jobId': 48476901, 'employerId': 331522, 'employerName': 'Harnham', 'employerProfileId': None, 'employerProfileName': None, 'jobTitle': 'Analytics Engineer', 'locationName': 'Manchester', 'minimumSalary': 30000.0, 'maximumSalary': 35000.0, 'currency': 'GBP', 'expirationDate': '21/11/2022', 'date': '10/10/2022', 'jobDescription': ' Analytics Engineer Up to &#163;35,000 (remote) Remote Want to work in a company that is dominating its industry? Work with massive amounts of data that are involved with one of the biggest forms of entertainment in the world! If you are an analyst who is looking to build your career and keep an open path this  role is for you! Company: A hu... ', 'applications': 7, 'jobUrl': 'https://www.reed.co.uk/jobs/analytics-engineer/48476901'}, {'jobId': 48704713, 'employerId': 331522, 'employerName': 'Harnham', 'employerProfileId': None, 'employerProfileName': None, 'jobTitle': 'Marketing Automation Specialist', 'locationName': 'Sheffield', 'minimumSalary': 45000.0, 'maximumSalary': 55000.0, 'currency': 'GBP', 'expirationDate': '13/12/2022', 'date': '01/11/2022', 'jobDescription': ' MARKETING AUTOMATION SPECIALIST &#163;45,000 - 55,000 REMOTE  Do you want to be part of the growth and success of a revolutionary start up? Be part of the forward thinking and friendly team within this SAAS start up!  THE COMPANY This new brand looks to find marketing solutions using a wealth and breadth of experience, offering demand genera... ', 'applications': 3, 'jobUrl': 'https://www.reed.co.uk/jobs/marketing-automation-specialist/48704713'}, {'jobId': 48515899, 'employerId': 302092, 'employerName': 'Adria Solutions Ltd', 'employerProfileId': None, 'employerProfileName': None, 'jobTitle': 'Data Analyst - Remote - Contract', 'locationName': 'Manchester', 'minimumSalary': 200.0, 'maximumSalary': 300.0, 'currency': 'GBP', 'expirationDate': '24/11/2022', 'date': '13/10/2022', 'jobDescription': ' Data Analyst – Contract - Remote  On behalf of our award-winning client based near Manchester, we are recruiting a talented Data Analyst on a contract basis. As a Data Analyst, you will provide comprehensive support across all sites in the group with system upgrades and reporting.  The Data Analyst will be responsible for:   Develop in-depth knowledge of internal systems to be able to offer support </l... ', 'applications': 85, 'jobUrl': 'https://www.reed.co.uk/jobs/data-analyst-remote-contract/48515899'}, {'jobId': 48431635, 'employerId': 302092, 'employerName': 'Adria Solutions Ltd', 'employerProfileId': None, 'employerProfileName': None, 'jobTitle': 'Data Analyst - Remote - Contract', 'locationName': 'Manchester', 'minimumSalary': 200.0, 'maximumSalary': 300.0, 'currency': 'GBP', 'expirationDate': '17/11/2022', 'date': '06/10/2022', 'jobDescription': ' Data Analyst – Contract - Remote  On behalf of our award-winning client based near Manchester, we are recruiting a talented Data Analyst on a contract basis. As a Data Analyst, you will provide comprehensive support across all sites in the group with system upgrades and reporting.  The Data Analyst will be responsible for:   Develop in-depth knowledge of internal systems to be able to offer support </l... ', 'applications': 58, 'jobUrl': 'https://www.reed.co.uk/jobs/data-analyst-remote-contract/48431635'}, {'jobId': 48344840, 'employerId': 391063, 'employerName': 'Opus Recruitment Solutions Ltd', 'employerProfileId': None, 'employerProfileName': None, 'jobTitle': 'AWS Data Engineer  6 Months  £500-£550pd  Remote', 'locationName': 'Bristol', 'minimumSalary': 500.0, 'maximumSalary': 550.0, 'currency': 'GBP', 'expirationDate': '10/11/2022', 'date': '29/09/2022', 'jobDescription': 'My client is looking for an AWS Data Engineer to come on board for a 6 month contract to work with one of there end clients. Key skills needed:  Experience with Data EngineeringExperience with AWS platform and infrastructure related skills, for example any of the following: aws EC2, lambda, python, terraform, jenkins, git.SQLSnowflakeMatillion This wil... ', 'applications': 10, 'jobUrl': 'https://www.reed.co.uk/jobs/aws-data-engineer-6-months-500-550pd-remote/48344840'}, {'jobId': 48490413, 'employerId': 508307, 'employerName': 'Versende Limited', 'employerProfileId': None, 'employerProfileName': None, 'jobTitle': 'Data Analyst Assessor', 'locationName': 'Bristol', 'minimumSalary': 45000.0, 'maximumSalary': 55000.0, 'currency': 'GBP', 'expirationDate': '22/11/2022', 'date': '11/10/2022', 'jobDescription': ' Job Title: Data Analyst Assessor Job ID: 07399 Location: Remote / Home Based Job Type: Permanent Salary: &#163;45-55k Industry: Education Company: A leading End-point Assessment Organisation are looking to bring in a Data Analyst Assessor that will successfully support the readiness for EPA Gateway and conducting the End-point Assessment for apprentices completing the level 3 ... ', 'applications': 21, 'jobUrl': 'https://www.reed.co.uk/jobs/data-analyst-assessor/48490413'}, {'jobId': 48804742, 'employerId': 508307, 'employerName': 'Versende Limited', 'employerProfileId': None, 'employerProfileName': None, 'jobTitle': 'Data Analyst Assessor', 'locationName': 'Scotland', 'minimumSalary': 45000.0, 'maximumSalary': 55000.0, 'currency': 'GBP', 'expirationDate': '19/12/2022', 'date': '07/11/2022', 'jobDescription': ' Job Title: Data Analyst Assessor Job ID: 07399 Location: Remote / Home Based Job Type: Permanent Salary: &#163;45-55k Industry: Education Company: A leading End-point Assessment Organisation are looking to bring in a Data Analyst Assessor that will successfully support the readiness for EPA Gateway and conducting the End-point Assessment for apprentices completing the level 3 ... ', 'applications': 6, 'jobUrl': 'https://www.reed.co.uk/jobs/data-analyst-assessor/48804742'}, {'jobId': 48804729, 'employerId': 508307, 'employerName': 'Versende Limited', 'employerProfileId': None, 'employerProfileName': None, 'jobTitle': 'Data Analyst Assessor', 'locationName': 'Manchester', 'minimumSalary': 45000.0, 'maximumSalary': 55000.0, 'currency': 'GBP', 'expirationDate': '19/12/2022', 'date': '07/11/2022', 'jobDescription': ' Job Title: Data Analyst Assessor Job ID: 07399 Location: Remote / Home Based Job Type: Permanent Salary: &#163;45-55k Industry: Education Company: A leading End-point Assessment Organisation are looking to bring in a Data Analyst Assessor that will successfully support the readiness for EPA Gateway and conducting the End-point Assessment for apprentices completing the level 3 ... ', 'applications': 5, 'jobUrl': 'https://www.reed.co.uk/jobs/data-analyst-assessor/48804729'}, {'jobId': 48804724, 'employerId': 508307, 'employerName': 'Versende Limited', 'employerProfileId': None, 'employerProfileName': None, 'jobTitle': 'Data Analyst Assessor', 'locationName': 'Birmingham', 'minimumSalary': 45000.0, 'maximumSalary': 55000.0, 'currency': 'GBP', 'expirationDate': '19/12/2022', 'date': '07/11/2022', 'jobDescription': ' Job Title: Data Analyst Assessor Job ID: 07399 Location: Remote / Home Based Job Type: Permanent Salary: &#163;45-55k Industry: Education Company: A leading End-point Assessment Organisation are looking to bring in a Data Analyst Assessor that will successfully support the readiness for EPA Gateway and conducting the End-point Assessment for apprentices completing the level 3 ... ', 'applications': 4, 'jobUrl': 'https://www.reed.co.uk/jobs/data-analyst-assessor/48804724'}, {'jobId': 48804717, 'employerId': 508307, 'employerName': 'Versende Limited', 'employerProfileId': None, 'employerProfileName': None, 'jobTitle': 'Data Analyst Assessor', 'locationName': 'Kent', 'minimumSalary': 45000.0, 'maximumSalary': 55000.0, 'currency': 'GBP', 'expirationDate': '19/12/2022', 'date': '07/11/2022', 'jobDescription': ' Job Title: Data Analyst Assessor Job ID: 07399 Location: Remote / Home Based Job Type: Permanent Salary: &#163;45-55k Industry: Education Company: A leading End-point Assessment Organisation are looking to bring in a Data Analyst Assessor that will successfully support the readiness for EPA Gateway and conducting the End-point Assessment for apprentices completing the level 3 ... ', 'applications': 5, 'jobUrl': 'https://www.reed.co.uk/jobs/data-analyst-assessor/48804717'}, {'jobId': 48804705, 'employerId': 508307, 'employerName': 'Versende Limited', 'employerProfileId': None, 'employerProfileName': None, 'jobTitle': 'Data Analyst Assessor', 'locationName': 'London', 'minimumSalary': 45000.0, 'maximumSalary': 55000.0, 'currency': 'GBP', 'expirationDate': '19/12/2022', 'date': '07/11/2022', 'jobDescription': ' Job Title: Data Analyst Assessor Job ID: 07399 Location: Remote / Home Based Job Type: Permanent Salary: &#163;45-55k Industry: Education Company: A leading End-point Assessment Organisation are looking to bring in a Data Analyst Assessor that will successfully support the readiness for EPA Gateway and conducting the End-point Assessment for apprentices completing the level 3 ... ', 'applications': 8, 'jobUrl': 'https://www.reed.co.uk/jobs/data-analyst-assessor/48804705'}, {'jobId': 48490403, 'employerId': 508307, 'employerName': 'Versende Limited', 'employerProfileId': None, 'employerProfileName': None, 'jobTitle': 'Data Analyst Assessor', 'locationName': 'Manchester', 'minimumSalary': 43000.0, 'maximumSalary': 50000.0, 'currency': 'GBP', 'expirationDate': '22/11/2022', 'date': '11/10/2022', 'jobDescription': ' Job Title: Data Analyst Assessor Job ID: 07399 Location: Remote / Home Based Job Type: Permanent Salary: &#163;43-50k Industry: Education  Company: A leading End-point Assessment Organisation are looking to bring in a Data Analyst Assessor that will successfully support the readiness for EPA Gateway and conducting the End-point Assessment for apprentices completing the level 3... ', 'applications': 29, 'jobUrl': 'https://www.reed.co.uk/jobs/data-analyst-assessor/48490403'}, {'jobId': 48490395, 'employerId': 508307, 'employerName': 'Versende Limited', 'employerProfileId': None, 'employerProfileName': None, 'jobTitle': 'Data Analyst Assessor', 'locationName': 'London', 'minimumSalary': 43000.0, 'maximumSalary': 50000.0, 'currency': 'GBP', 'expirationDate': '22/11/2022', 'date': '11/10/2022', 'jobDescription': ' Job Title: Data Analyst Assessor Job ID: 07399 Location: Remote / Home Based Job Type: Permanent Salary: &#163;43-50k Industry: Education  Company: A leading End-point Assessment Organisation are looking to bring in a Data Analyst Assessor that will successfully support the readiness for EPA Gateway and conducting the End-point Assessment for apprentices completing the level 3... ', 'applications': 38, 'jobUrl': 'https://www.reed.co.uk/jobs/data-analyst-assessor/48490395'}, {'jobId': 48805669, 'employerId': 524744, 'employerName': 'Hays Specialist Recruitment Limited', 'employerProfileId': None, 'employerProfileName': None, 'jobTitle': 'Data Analyst', 'locationName': 'Bristol', 'minimumSalary': 400.0, 'maximumSalary': 475.0, 'currency': 'GBP', 'expirationDate': '28/11/2022', 'date': '07/11/2022', 'jobDescription': ' Data Analyst role in Central Government We are currently working to onboard a Data Analyst to contribute to the design and creation of analytical products in a central government department.The role will involve:  Understand customer needs, regularly seek feedback and incorporate these into analytical product designAssess and audit suitability of statistical techniques against emerging application... ', 'applications': 38, 'jobUrl': 'https://www.reed.co.uk/jobs/data-analyst/48805669'}, {'jobId': 48637603, 'employerId': 331522, 'employerName': 'Harnham', 'employerProfileId': None, 'employerProfileName': None, 'jobTitle': 'Data Engineer Contract', 'locationName': 'London', 'minimumSalary': 600.0, 'maximumSalary': 700.0, 'currency': 'GBP', 'expirationDate': '05/12/2022', 'date': '24/10/2022', 'jobDescription': ' I am partnered with a well-established investment management firm as they look to build a new Data Platform to serve their business needs for crucial project delivery. The Data Platform will be cutting edge, and I am looking for a Data Engineers to join up asap and work across the following:  AWS Data Engineer (EMR, Glue, Athena)Python and PySparkAirflow for OrchestrationTest-Driven Development a... ', 'applications': 26, 'jobUrl': 'https://www.reed.co.uk/jobs/data-engineer-contract/48637603'}, {'jobId': 48615133, 'employerId': 645450, 'employerName': 'Principle ', 'employerProfileId': None, 'employerProfileName': None, 'jobTitle': 'Data Engineer - Python, SQL, ETL - Global Media', 'locationName': 'Edinburgh', 'minimumSalary': 80000.0, 'maximumSalary': 110000.0, 'currency': 'GBP', 'expirationDate': '02/12/2022', 'date': '21/10/2022', 'jobDescription': ' Data Engineer - Python, SQL, ETL - Global Media Tech This is a UK based role; fully remote from anywhere within the UK - candidates must be able to work in the UK without the need of Visa sponsorship or relocation We’re recruiting for several roles; hence the wide salary range The Offer:  This role offers an annual salary of &#163;80k to &#163;110k ba... ', 'applications': 6, 'jobUrl': 'https://www.reed.co.uk/jobs/data-engineer-python-sql-etl-global-media/48615133'}, {'jobId': 48615130, 'employerId': 645450, 'employerName': 'Principle ', 'employerProfileId': None, 'employerProfileName': None, 'jobTitle': 'Data Engineer - Python, SQL, ETL - Global Media', 'locationName': 'Glasgow', 'minimumSalary': 80000.0, 'maximumSalary': 110000.0, 'currency': 'GBP', 'expirationDate': '02/12/2022', 'date': '21/10/2022', 'jobDescription': ' Data Engineer - Python, SQL, ETL - Global Media Tech This is a UK based role; fully remote from anywhere within the UK - candidates must be able to work in the UK without the need of Visa sponsorship or relocation We’re recruiting for several roles; hence the wide salary range The Offer:  This role offers an annual salary of &#163;80k to &#163;110k ba... ', 'applications': 3, 'jobUrl': 'https://www.reed.co.uk/jobs/data-engineer-python-sql-etl-global-media/48615130'}, {'jobId': 48615124, 'employerId': 645450, 'employerName': 'Principle ', 'employerProfileId': None, 'employerProfileName': None, 'jobTitle': 'Data Engineer - Python, SQL, ETL - Global Media', 'locationName': 'Cardiff', 'minimumSalary': 80000.0, 'maximumSalary': 110000.0, 'currency': 'GBP', 'expirationDate': '02/12/2022', 'date': '21/10/2022', 'jobDescription': ' Data Engineer - Python, SQL, ETL - Global Media Tech This is a UK based role; fully remote from anywhere within the UK - candidates must be able to work in the UK without the need of Visa sponsorship or relocation We’re recruiting for several roles; hence the wide salary range The Offer:  This role offers an annual salary of &#163;80k to &#163;110k ba... ', 'applications': 3, 'jobUrl': 'https://www.reed.co.uk/jobs/data-engineer-python-sql-etl-global-media/48615124'}, {'jobId': 48615119, 'employerId': 645450, 'employerName': 'Principle ', 'employerProfileId': None, 'employerProfileName': None, 'jobTitle': 'Data Engineer - Python, SQL, ETL - Global Media', 'locationName': 'Manchester', 'minimumSalary': 80000.0, 'maximumSalary': 110000.0, 'currency': 'GBP', 'expirationDate': '02/12/2022', 'date': '21/10/2022', 'jobDescription': ' Data Engineer - Python, SQL, ETL - Global Media Tech This is a UK based role; fully remote from anywhere within the UK - candidates must be able to work in the UK without the need of Visa sponsorship or relocation We’re recruiting for several roles; hence the wide salary range The Offer:  This role offers an annual salary of &#163;80k to &#163;110k ba... ', 'applications': 3, 'jobUrl': 'https://www.reed.co.uk/jobs/data-engineer-python-sql-etl-global-media/48615119'}, {'jobId': 48615108, 'employerId': 645450, 'employerName': 'Principle ', 'employerProfileId': None, 'employerProfileName': None, 'jobTitle': 'Data Engineer - Python, SQL, ETL - Global Media', 'locationName': 'Birmingham', 'minimumSalary': 80000.0, 'maximumSalary': 110000.0, 'currency': 'GBP', 'expirationDate': '02/12/2022', 'date': '21/10/2022', 'jobDescription': ' Data Engineer - Python, SQL, ETL - Global Media Tech This is a UK based role; fully remote from anywhere within the UK - candidates must be able to work in the UK without the need of Visa sponsorship or relocation We’re recruiting for several roles; hence the wide salary range The Offer:  This role offers an annual salary of &#163;80k to &#163;110k ba... ', 'applications': 7, 'jobUrl': 'https://www.reed.co.uk/jobs/data-engineer-python-sql-etl-global-media/48615108'}, {'jobId': 48615104, 'employerId': 645450, 'employerName': 'Principle ', 'employerProfileId': None, 'employerProfileName': None, 'jobTitle': 'Data Engineer - Python, SQL, ETL - Global Media', 'locationName': 'London', 'minimumSalary': 80000.0, 'maximumSalary': 110000.0, 'currency': 'GBP', 'expirationDate': '02/12/2022', 'date': '21/10/2022', 'jobDescription': ' Data Engineer - Python, SQL, ETL - Global Media Tech   This is a UK based role; fully remote from anywhere within the UK - candidates must be able to work in the UK without the need of Visa sponsorship or relocation  We’re recruiting for several roles; hence the wide salary range    The Offer:   This role offers an annual salary of &#163;80k to &#163;... ', 'applications': 10, 'jobUrl': 'https://www.reed.co.uk/jobs/data-engineer-python-sql-etl-global-media/48615104'}, {'jobId': 48592404, 'employerId': 153239, 'employerName': 'NonStop Consulting Ltd', 'employerProfileId': None, 'employerProfileName': None, 'jobTitle': 'SOC Analyst L2 Remote', 'locationName': 'Gosport', 'minimumSalary': 40000.0, 'maximumSalary': 50000.0, 'currency': 'GBP', 'expirationDate': '30/11/2022', 'date': '19/10/2022', 'jobDescription': ' I am currently recruiting a Fully Remote Level 2 SOC analyst to join a growing and supportive Security team in the Aerospace and Defence Industry. You will be a key part of supporting the continuing maturity of the Security Operations Centre and deliver  an effective and efficient service to their diverse clients. As the level 2 SOC Analyst (or an experienced Level 1 Analyst looking to progress) you will add new skills and ideas to our alrea... ', 'applications': 6, 'jobUrl': 'https://www.reed.co.uk/jobs/soc-analyst-l2-remote/48592404'}, {'jobId': 48731572, 'employerId': 436122, 'employerName': 'Salt Search', 'employerProfileId': None, 'employerProfileName': None, 'jobTitle': 'Data Engineer - Market Research', 'locationName': 'London', 'minimumSalary': 60000.0, 'maximumSalary': 70000.0, 'currency': 'GBP', 'expirationDate': '14/12/2022', 'date': '02/11/2022', 'jobDescription': \" Data Engineer Leading Market Research Company 100% Remote or London Hybrid Up to &#163;65,000 &#43; benefits Join one of the worlds leading market research companies as they continue to expand their Data Engineering unit - investing in the development of top-tier data sourcing, market/social research and audience measurement products. This isn't your regular Data Engineer role - this positi... \", 'applications': 3, 'jobUrl': 'https://www.reed.co.uk/jobs/data-engineer-market-research/48731572'}, {'jobId': 48731547, 'employerId': 436122, 'employerName': 'Salt Search', 'employerProfileId': None, 'employerProfileName': None, 'jobTitle': 'Senior Data Scientist - Market Research', 'locationName': 'London', 'minimumSalary': None, 'maximumSalary': None, 'currency': None, 'expirationDate': '14/12/2022', 'date': '02/11/2022', 'jobDescription': \" Senior Data Scientist  Leading Market Research Company 100% Remote or London Hybrid Up to &#163;65,000 &#43; benefits Join one of the worlds leading market research companies as they continue to expand their Data Science unit - investing in the development of top-tier data sourcing, market/social research and audience measurement products. This isn't your regular Data Science role - this po... \", 'applications': 8, 'jobUrl': 'https://www.reed.co.uk/jobs/senior-data-scientist-market-research/48731547'}, {'jobId': 48849687, 'employerId': 87642, 'employerName': 'Anson McCade Ltd - IT and Finance Recruitment', 'employerProfileId': None, 'employerProfileName': None, 'jobTitle': 'Data Analyst - Python & SQL', 'locationName': 'Shoreditch', 'minimumSalary': 45000.0, 'maximumSalary': 75000.0, 'currency': 'GBP', 'expirationDate': '21/12/2022', 'date': '09/11/2022', 'jobDescription': \" Data Analyst - Python &amp; SQL London Are you looking for a new opportunity to work on some seriously interesting projects? Do you have strong commercial experience working in complex environments with prior exposure to the public sector ? A Data Analyst has the chance to join one of the United  Kingdom's leading cyber security digital service provider's that was previously voted by the Sunday... \", 'applications': 7, 'jobUrl': 'https://www.reed.co.uk/jobs/data-analyst-python-sql/48849687'}, {'jobId': 48253682, 'employerId': 331522, 'employerName': 'Harnham', 'employerProfileId': None, 'employerProfileName': None, 'jobTitle': 'Transaction Monitoring Model Manager', 'locationName': 'London', 'minimumSalary': 70000.0, 'maximumSalary': 80000.0, 'currency': 'GBP', 'expirationDate': '13/12/2022', 'date': '20/09/2022', 'jobDescription': \" Transaction Monitoring Model Manager  Remote Up to &#163;80,000 &#43; Competitive Bonus &amp; Benefits  The Company  Join a leading Tier 1 bank that is pushing boundaries in data, as well as changing the way flexible working works. This organisation invests in its employees in a way that many others don't, allowing you to choose your working patte... \", 'applications': 7, 'jobUrl': 'https://www.reed.co.uk/jobs/transaction-monitoring-model-manager/48253682'}, {'jobId': 48718887, 'employerId': 626528, 'employerName': 'James Adams Recruitment', 'employerProfileId': None, 'employerProfileName': None, 'jobTitle': 'Senior Marketing Analyst', 'locationName': 'London', 'minimumSalary': 50000.0, 'maximumSalary': 80000.0, 'currency': 'GBP', 'expirationDate': '13/12/2022', 'date': '01/11/2022', 'jobDescription': \" James Adams is recruiting for a Marketing Analyst to join our client in London which&nbsp;is one of Europe's&nbsp;largest e-commerce businesses and operates in over 10 countries! The company has been going strong for over 20 years and have merged with huge household  brands so you will be joining a financially strong and independent company. Our client are happy for you to come to the office 2 days a month as a minimum but otherwise o... \", 'applications': 3, 'jobUrl': 'https://www.reed.co.uk/jobs/senior-marketing-analyst/48718887'}, {'jobId': 47973895, 'employerId': 14180, 'employerName': 'Cathedral Appointments Ltd', 'employerProfileId': None, 'employerProfileName': None, 'jobTitle': 'Data Scientist', 'locationName': 'Newton Abbot', 'minimumSalary': 48000.0, 'maximumSalary': 58000.0, 'currency': 'GBP', 'expirationDate': '13/12/2022', 'date': '24/08/2022', 'jobDescription': ' Competitive Salary | Hybrid Working | Staff Discount  We are working exclusively with our client, a dynamic, market-leading business based in the heart of Devon to recruit a Data Scientist to join their team. As a Data Scientist, you will develop AI algorithms and SQL queries to turn raw data into meaningful information that organisations can use to improve their business. Our client offers a blend of... ', 'applications': 52, 'jobUrl': 'https://www.reed.co.uk/jobs/data-scientist/47973895'}, {'jobId': 48839769, 'employerId': 107519, 'employerName': 'Circle Recruitment', 'employerProfileId': None, 'employerProfileName': None, 'jobTitle': 'Higher Information Analyst', 'locationName': 'London', 'minimumSalary': 200.0, 'maximumSalary': 211.0, 'currency': 'GBP', 'expirationDate': '21/12/2022', 'date': '09/11/2022', 'jobDescription': ' Higher Information Analyst  &#163;200 - &#163;211/Day Inside IR35 London or Leeds, Hybrid  Until 31/03 We are seeking a Higher Information Analyst for our Public Sector client This role will be Hybrid -Remote working and requirement to travel to office in London or Leeds for key events/ meetings. The Higher Information Analyst role will be an init... ', 'applications': 3, 'jobUrl': 'https://www.reed.co.uk/jobs/higher-information-analyst/48839769'}, {'jobId': 48802378, 'employerId': 431313, 'employerName': 'Sphere Digital Recruitment', 'employerProfileId': None, 'employerProfileName': None, 'jobTitle': 'Grad Marketing Data Analyst', 'locationName': 'London', 'minimumSalary': 30000.0, 'maximumSalary': 35000.0, 'currency': 'GBP', 'expirationDate': '19/12/2022', 'date': '07/11/2022', 'jobDescription': \" Marketing Data Analyst - &#163;30k-&#163;35k The Company  I am working with a global leading digital marketing and performance agency, who specialise in the gaming and sports betting industry. The business is forecasted to grow to $14bn by 2025 and is expanding it's UK office. This is a great opportunity for a Graduate to join a supportive team within a fast growing business, where they can progress thei... \", 'applications': 17, 'jobUrl': 'https://www.reed.co.uk/jobs/grad-marketing-data-analyst/48802378'}, {'jobId': 48746147, 'employerId': 431313, 'employerName': 'Sphere Digital Recruitment', 'employerProfileId': None, 'employerProfileName': None, 'jobTitle': 'Graduate Marketing Analyst', 'locationName': 'London', 'minimumSalary': 30000.0, 'maximumSalary': 35000.0, 'currency': 'GBP', 'expirationDate': '15/12/2022', 'date': '03/11/2022', 'jobDescription': ' Graduate Marketing Analyst - London - &#163;30-35k The client is a leading provider of data driven marketing and analytics combining media and data science to drive results for their current clients and partners. They are looking for a motivated Junior Marketing Data Analyst searching for an opportunity to gain a wide range of experience in data engineering, data analytics and marketing and contribute to an ind... ', 'applications': 42, 'jobUrl': 'https://www.reed.co.uk/jobs/graduate-marketing-analyst/48746147'}, {'jobId': 48799228, 'employerId': 331522, 'employerName': 'Harnham', 'employerProfileId': None, 'employerProfileName': None, 'jobTitle': 'CREDIT RISK DATA MANAGEMENT', 'locationName': 'London', 'minimumSalary': 40000.0, 'maximumSalary': 70000.0, 'currency': 'GBP', 'expirationDate': '19/12/2022', 'date': '07/11/2022', 'jobDescription': ' CREDIT RISK DATA MANAGEMENT &#163;40,000 to &#163;70,000 &#43; BONUS &#43; PENSION UNITED KINGDOM This is an amazing opportunity to join a top bank in the UK as a data management analyst to assist the IRB modelling team with all data requirements. They provide great flexibility in a remote working schedule and a very generous salary and package. THE COMPAN... ', 'applications': 5, 'jobUrl': 'https://www.reed.co.uk/jobs/credit-risk-data-management/48799228'}, {'jobId': 48650575, 'employerId': 331522, 'employerName': 'Harnham', 'employerProfileId': None, 'employerProfileName': None, 'jobTitle': 'Senior CRM Analyst', 'locationName': 'Manchester', 'minimumSalary': 40000.0, 'maximumSalary': 50000.0, 'currency': 'GBP', 'expirationDate': '06/12/2022', 'date': '25/10/2022', 'jobDescription': ' SENIOR CRM ANALYST  &#163;40,000 - 50,000  MANCHESTER/REMOTE Be a key player in the development of CRM strategy and the personalisation of customer experience in this analytics role!  THE COMPANY A leading retailer within animal care with huge growth plans and a passion for pets! They are data driven and believe in growing their team throug... ', 'applications': 2, 'jobUrl': 'https://www.reed.co.uk/jobs/senior-crm-analyst/48650575'}, {'jobId': 48632113, 'employerId': 331522, 'employerName': 'Harnham', 'employerProfileId': None, 'employerProfileName': None, 'jobTitle': 'Senior Analyst', 'locationName': 'Manchester', 'minimumSalary': 40000.0, 'maximumSalary': 50000.0, 'currency': 'GBP', 'expirationDate': '05/12/2022', 'date': '24/10/2022', 'jobDescription': ' SENIOR ANALYST &#163;40,000 - 50,000 REMOTE  Are you looking to progress your career in analytics? Have access to a vast amount of data and use new and exiting tools? This technical analytics role has everything you need to boost your career!  THE COMPANY A large retailer which has recently embarked their digital transformation, with new in... ', 'applications': 6, 'jobUrl': 'https://www.reed.co.uk/jobs/senior-analyst/48632113'}, {'jobId': 48625206, 'employerId': 331522, 'employerName': 'Harnham', 'employerProfileId': None, 'employerProfileName': None, 'jobTitle': 'Senior Pricing Analyst', 'locationName': 'Cardiff', 'minimumSalary': 40000.0, 'maximumSalary': 50000.0, 'currency': 'GBP', 'expirationDate': '04/12/2022', 'date': '23/10/2022', 'jobDescription': \" SENIOR PRICING ANALYST &#163;40,000-&#163;50,000 CARDIFF A niche financial services company is seeking an Analyst with a strong analytical background for a role in their Risk Pricing team. A hands-on role where you'll build out and deploy Pricing strategies devised from mass quantities of data. You'll use your  data skills and business experience to drive business strate... \", 'applications': 0, 'jobUrl': 'https://www.reed.co.uk/jobs/senior-pricing-analyst/48625206'}, {'jobId': 48622347, 'employerId': 331522, 'employerName': 'Harnham', 'employerProfileId': None, 'employerProfileName': None, 'jobTitle': 'Marketing Analyst', 'locationName': 'Durham', 'minimumSalary': 45000.0, 'maximumSalary': 55000.0, 'currency': 'GBP', 'expirationDate': '03/12/2022', 'date': '22/10/2022', 'jobDescription': ' MARKETING ANALYST  &#163;45,000 - 55,000  DURHAM  Do you want the opportunity to help shape and grow a thriving successful brand? Be a crucial part of the team in this high growth marketing analyst position!  THE COMPANY  A leading brand within manufacturing retail going through a digital transformation, after some key hires they are embedd... ', 'applications': 5, 'jobUrl': 'https://www.reed.co.uk/jobs/marketing-analyst/48622347'}, {'jobId': 48607155, 'employerId': 331522, 'employerName': 'Harnham', 'employerProfileId': None, 'employerProfileName': None, 'jobTitle': 'Data Scientist Senior', 'locationName': 'London', 'minimumSalary': 65000.0, 'maximumSalary': 70000.0, 'currency': 'GBP', 'expirationDate': '01/12/2022', 'date': '20/10/2022', 'jobDescription': \" Data Scientist London &#163;70,000&#43; benefits THE COMPANY This fast-growing technology firm specialises in finding intelligent solutions for global clients in the financial markets. Combining artificial intelligence with scientific knowledge and constant innovation, it's no surprise this company is becoming a huge  name in the world of financial data extraction. This scaleup prides themselves o... \", 'applications': 9, 'jobUrl': 'https://www.reed.co.uk/jobs/data-scientist-senior/48607155'}, {'jobId': 48591478, 'employerId': 331522, 'employerName': 'Harnham', 'employerProfileId': None, 'employerProfileName': None, 'jobTitle': 'Data engineer', 'locationName': 'Birmingham', 'minimumSalary': 70000.0, 'maximumSalary': 75000.0, 'currency': 'GBP', 'expirationDate': '30/11/2022', 'date': '19/10/2022', 'jobDescription': ' Data Engineer Up to &#163;75,000 (remote) There is a huge push for data to be at the forefront of the business model. This growing company is looking to expand its team and get involved in a variety of diverse projects. Do you want to work with huge amounts of data? Will you be able to step up to  this? Company This company is looking to gr... ', 'applications': 14, 'jobUrl': 'https://www.reed.co.uk/jobs/data-engineer/48591478'}, {'jobId': 48509701, 'employerId': 331522, 'employerName': 'Harnham', 'employerProfileId': None, 'employerProfileName': None, 'jobTitle': 'Senior Pricing Analyst', 'locationName': 'London', 'minimumSalary': 40000.0, 'maximumSalary': 50000.0, 'currency': 'GBP', 'expirationDate': '23/11/2022', 'date': '12/10/2022', 'jobDescription': \" SENIOR PRICING ANALYST &#163;40,000-&#163;50,000 LONDON A niche financial services company is seeking an Analyst with a strong analytical background for a role in their Risk Pricing team. A hands-on role where you'll build out and deploy Pricing strategies devised from mass quantities of data. You'll use your  data skills and business experience to drive business strateg... \", 'applications': 3, 'jobUrl': 'https://www.reed.co.uk/jobs/senior-pricing-analyst/48509701'}, {'jobId': 48389725, 'employerId': 331522, 'employerName': 'Harnham', 'employerProfileId': None, 'employerProfileName': None, 'jobTitle': 'Senior Credit Risk Analyst', 'locationName': 'London', 'minimumSalary': 50000.0, 'maximumSalary': 60000.0, 'currency': 'GBP', 'expirationDate': '14/11/2022', 'date': '03/10/2022', 'jobDescription': ' SENIOR CREDIT RISK ANALYST UP TO 60,000 &#43; COMPETITIVE BENEFITS UK - FULLY REMOTE A thriving fin-tech is looking for a Senior Credit Risk Analyst to join their data team. If you have experience in scorecard modelling or implementing credit risk strategies, this is the role for you. THE COMPANY: As a Senior Credit Risk Analyst, you will w... ', 'applications': 16, 'jobUrl': 'https://www.reed.co.uk/jobs/senior-credit-risk-analyst/48389725'}, {'jobId': 48725942, 'employerId': 153239, 'employerName': 'NonStop Consulting Ltd', 'employerProfileId': None, 'employerProfileName': None, 'jobTitle': 'Remote - L2 SOC Analyst - SC Eligible - UK', 'locationName': 'London', 'minimumSalary': 30000.0, 'maximumSalary': 50000.0, 'currency': 'GBP', 'expirationDate': '14/12/2022', 'date': '02/11/2022', 'jobDescription': ' We are looking for two Level 2 SOC analyst to join our Security team in the Aerospace, Defence and security to support the ongoing maturity of our Security Operations Centre (SOC) and help deliver an efficient and effective service to our wide range of clients.  We are looking for a level 2 SOC Analyst (or an experienced Level1 SOC Analyst ready to progress) who can add new skills and ideas to our already diverse team. We can offer gr... ', 'applications': 6, 'jobUrl': 'https://www.reed.co.uk/jobs/remote-l2-soc-analyst-sc-eligible-uk/48725942'}, {'jobId': 48649692, 'employerId': 647920, 'employerName': 'BeTechnology Group Limited', 'employerProfileId': None, 'employerProfileName': None, 'jobTitle': 'Quantitative Analyst - London Hybrid - 60000 - 80000 GBP', 'locationName': 'London', 'minimumSalary': 60000.0, 'maximumSalary': 80000.0, 'currency': 'GBP', 'expirationDate': '09/12/2022', 'date': '25/10/2022', 'jobDescription': ' Quantitative Analyst - London (Hybrid) - &#163;60,000 - &#163;80,000  I am currently working with a rapidly growing fintech company, based in central London. Their vision is to transform how the asset management industry makes their investment decisions by bringing together analytics, research and data science. To support their growth, they are now looking to expand their data team and bring onboard a Quantitat... ', 'applications': 4, 'jobUrl': 'https://www.reed.co.uk/jobs/quantitative-analyst-london-hybrid-60000-80000-gbp/48649692'}, {'jobId': 48647234, 'employerId': 524744, 'employerName': 'Hays Specialist Recruitment Limited', 'employerProfileId': None, 'employerProfileName': None, 'jobTitle': 'Senior Analyst', 'locationName': 'Cardiff', 'minimumSalary': 42000.0, 'maximumSalary': 47000.0, 'currency': 'GBP', 'expirationDate': '06/12/2022', 'date': '25/10/2022', 'jobDescription': ' Senior Analyst - Flexible Working - Paying &#163;42,000 up to &#163;42,000 - Based In Cardiff  Your new companyHays are working with a big client within the financial and banking sector, based in Cardiff. This role is hybrid, looking for candidates to ideally come in the office more than once a week, but do offer flexible working. Your new roleWithin the role you will provide an excellent unde... ', 'applications': 2, 'jobUrl': 'https://www.reed.co.uk/jobs/senior-analyst/48647234'}, {'jobId': 48539922, 'employerId': 80599, 'employerName': 'Sellick Partnership', 'employerProfileId': None, 'employerProfileName': None, 'jobTitle': 'Pricing Actuarial Analyst', 'locationName': 'London', 'minimumSalary': 30000.0, 'maximumSalary': 35000.0, 'currency': 'GBP', 'expirationDate': '25/11/2022', 'date': '14/10/2022', 'jobDescription': ' Pricing Actuarial Analyst This is an excellent opportunity for PhD Graduates looking to develop and improve their data science skills within the Pricing Analysis department of a major multinational general insurer. The permanent role is completely remote and offers a full study package  for the actuarial exams, resulting in the successful candidate becoming a qualified Fellow Actuary (FIA). The Role</st... ', 'applications': 7, 'jobUrl': 'https://www.reed.co.uk/jobs/pricing-actuarial-analyst/48539922'}, {'jobId': 48482522, 'employerId': 153239, 'employerName': 'NonStop Consulting Ltd', 'employerProfileId': None, 'employerProfileName': None, 'jobTitle': 'Remote - L2 SOC Analyst - SC Eligible', 'locationName': 'London', 'minimumSalary': 30000.0, 'maximumSalary': 50000.0, 'currency': 'GBP', 'expirationDate': '22/11/2022', 'date': '11/10/2022', 'jobDescription': ' We are looking for two Level 2 SOC analyst to join our Security team in the Aerospace, Defence and security to support the ongoing maturity of our Security Operations Centre (SOC) and help deliver an efficient and effective service to our wide range of clients.  We are looking for a level 2 SOC Analyst (or an experienced Level1 SOC Analyst ready to progress) who can add new skills and ideas to our already diverse team. We can offer gr... ', 'applications': 17, 'jobUrl': 'https://www.reed.co.uk/jobs/remote-l2-soc-analyst-sc-eligible/48482522'}, {'jobId': 48439390, 'employerId': 153239, 'employerName': 'NonStop Consulting Ltd', 'employerProfileId': None, 'employerProfileName': None, 'jobTitle': 'Remote - L2 SOC Analyst - SC', 'locationName': 'London', 'minimumSalary': 30000.0, 'maximumSalary': 50000.0, 'currency': 'GBP', 'expirationDate': '18/11/2022', 'date': '07/10/2022', 'jobDescription': ' We are looking for two Level 2 SOC analyst to join our Security team in the Aerospace, Defence and security to support the ongoing maturity of our Security Operations Centre (SOC) and help deliver an efficient and effective service to our wide range of clients.  We are looking for a level 2 SOC Analyst (or an experienced Level1 SOC Analyst ready to progress) who can add new skills and ideas to our already diverse team. We can offer gr... ', 'applications': 21, 'jobUrl': 'https://www.reed.co.uk/jobs/remote-l2-soc-analyst-sc/48439390'}, {'jobId': 48405550, 'employerId': 153239, 'employerName': 'NonStop Consulting Ltd', 'employerProfileId': None, 'employerProfileName': None, 'jobTitle': 'Remote - L2 SOC Analyst', 'locationName': 'London', 'minimumSalary': 30000.0, 'maximumSalary': 50000.0, 'currency': 'GBP', 'expirationDate': '15/11/2022', 'date': '04/10/2022', 'jobDescription': ' We are looking for two Level 2 SOC analyst to join our Security team in the Aerospace, Defence and security to support the ongoing maturity of our Security Operations Centre (SOC) and help deliver an efficient and effective service to our wide range of clients.  We are looking for a level 2 SOC Analyst (or an experienced Level1 SOC Analyst ready to progress) who can add new skills and ideas to our already diverse team. We can offer gr... ', 'applications': 24, 'jobUrl': 'https://www.reed.co.uk/jobs/remote-l2-soc-analyst/48405550'}, {'jobId': 48388398, 'employerId': 153239, 'employerName': 'NonStop Consulting Ltd', 'employerProfileId': None, 'employerProfileName': None, 'jobTitle': 'L2 SOC Analyst - Remote UK - SC - Eligible', 'locationName': 'London', 'minimumSalary': 30000.0, 'maximumSalary': 50000.0, 'currency': 'GBP', 'expirationDate': '14/11/2022', 'date': '03/10/2022', 'jobDescription': ' We are looking for two Level 2 SOC analyst to join our Security team in the Aerospace, Defence and security to support the ongoing maturity of our Security Operations Centre (SOC) and help deliver an efficient and effective service to our wide range of clients.  We are looking for a level 2 SOC Analyst (or an experienced Level1 SOC Analyst ready to progress) who can add new skills and ideas to our already diverse team. We can offer gr... ', 'applications': 23, 'jobUrl': 'https://www.reed.co.uk/jobs/l2-soc-analyst-remote-uk-sc-eligible/48388398'}, {'jobId': 47918828, 'employerId': 444769, 'employerName': 'Anthony Cole Associates', 'employerProfileId': None, 'employerProfileName': None, 'jobTitle': 'Data & Analytics Developer / Commercial Analyst', 'locationName': 'London', 'minimumSalary': 50000.0, 'maximumSalary': 70000.0, 'currency': 'GBP', 'expirationDate': '11/11/2022', 'date': '19/08/2022', 'jobDescription': ' This is a mostly remote-based role, with the expectation to come into the offices a few times a month when needed. Base salary range &#163;40-50,000 with a large bonus potential We are partnering with a highly respected FTSE 100 organisation who are striving to build a world class analytics team to deliver meaningful, sustainable and long-term solutions that respond to the needs of the business... ', 'applications': 24, 'jobUrl': 'https://www.reed.co.uk/jobs/data-analytics-developer-commercial-analyst/47918828'}, {'jobId': 48731073, 'employerId': 162291, 'employerName': 'Elevate Recruitment Limited', 'employerProfileId': None, 'employerProfileName': None, 'jobTitle': 'Application Engineer', 'locationName': 'St. Asaph', 'minimumSalary': 30000.0, 'maximumSalary': 40000.0, 'currency': 'GBP', 'expirationDate': '14/12/2022', 'date': '02/11/2022', 'jobDescription': ' Application Engineer required by fast-growing international software solution company. Working with clients and internal teams delivering first rate business solutions. This is a fantastic opportunity to join a close-knit team based in Denbighshire (with  hybrid working) and enjoying a salary up to &#163;40k plus benefits. Application Engineer - Skills and Experience  Good proficiency with Microsoft Office... ', 'applications': 0, 'jobUrl': 'https://www.reed.co.uk/jobs/application-engineer/48731073'}, {'jobId': 48726493, 'employerId': 378022, 'employerName': 'Capita', 'employerProfileId': None, 'employerProfileName': None, 'jobTitle': 'Data Quality Analyst', 'locationName': 'Birmingham', 'minimumSalary': 30000.0, 'maximumSalary': 45000.0, 'currency': 'GBP', 'expirationDate': '30/11/2022', 'date': '02/11/2022', 'jobDescription': 'Join us as a Data Quality Analyst with Wesleyan via Capita (Remote/Birmingham/Full-time/Permanent) About Capita At Capita, we support clients across a range of sectors, including local Government, central Government, education, transport, health, life and pensions, insurance and other private sector with technology, insight and analytics to keep our clients ahead of  change, sharper than competitors and more efficie... ', 'applications': 15, 'jobUrl': 'https://www.reed.co.uk/jobs/data-quality-analyst/48726493'}, {'jobId': 48252230, 'employerId': 331522, 'employerName': 'Harnham', 'employerProfileId': None, 'employerProfileName': None, 'jobTitle': 'Forensic Analytics Manager', 'locationName': 'London', 'minimumSalary': 65000.0, 'maximumSalary': 80000.0, 'currency': 'GBP', 'expirationDate': '13/12/2022', 'date': '20/09/2022', 'jobDescription': \" Forensic Analytics Manager  Remote Up to &#163;80,000 &#43; Competitive Bonus &amp; Benefits  The Company  Join a leading Tier 1 bank that is pushing boundaries in data, as well as changing the way flexible working works. This organisation invests in its employees in a way that many others don't, allowing you to choose your working pattern, giving... \", 'applications': 3, 'jobUrl': 'https://www.reed.co.uk/jobs/forensic-analytics-manager/48252230'}, {'jobId': 48698365, 'employerId': 378022, 'employerName': 'Capita', 'employerProfileId': None, 'employerProfileName': None, 'jobTitle': 'Data Quality Analyst', 'locationName': 'Birmingham', 'minimumSalary': 40000.0, 'maximumSalary': 45000.0, 'currency': 'GBP', 'expirationDate': '28/11/2022', 'date': '31/10/2022', 'jobDescription': 'Join us as a Data Quality Analyst with Wesleyan via Capita (Remote/Birmingham/Full-time/Permanent) About Capita At Capita, we support clients across a range of sectors, including local Government, central Government, education, transport, health, life and pensions, insurance and other private sector with technology, insight and analytics to keep our clients ahead of  change, sharper than competitors and more efficie... ', 'applications': 8, 'jobUrl': 'https://www.reed.co.uk/jobs/data-quality-analyst/48698365'}, {'jobId': 48808608, 'employerId': 331522, 'employerName': 'Harnham', 'employerProfileId': None, 'employerProfileName': None, 'jobTitle': 'Forensic Analytics Manager', 'locationName': 'London', 'minimumSalary': 60000.0, 'maximumSalary': 80000.0, 'currency': 'GBP', 'expirationDate': '19/12/2022', 'date': '07/11/2022', 'jobDescription': \" Forensic Analytics Manager  Remote Up to &#163;80,000 &#43; Competitive Bonus &amp; Benefits  The Company  Join a leading Tier 1 bank that is pushing boundaries in data, as well as changing the way flexible working works. This organisation invests in its employees in a way that many others don't, allowing you to choose your working pattern, giving... \", 'applications': 2, 'jobUrl': 'https://www.reed.co.uk/jobs/forensic-analytics-manager/48808608'}, {'jobId': 48660309, 'employerId': 415770, 'employerName': 'Simply Business', 'employerProfileId': None, 'employerProfileName': None, 'jobTitle': 'Senior Technical Pricing Analyst', 'locationName': 'London', 'minimumSalary': None, 'maximumSalary': None, 'currency': None, 'expirationDate': '07/12/2022', 'date': '26/10/2022', 'jobDescription': ' We’re Simply Business We insure small businesses and enable big dreams - not just for our customers, but for our people and communities too. With over 1,000,000 active insurance policies, we protect builders, bakers, landlords, and more than 1,000 other trades. We harness cutting-edge data ability, believe in experimentation, and build our own technology to deliver better experiences for our customers and emplo... ', 'applications': 2, 'jobUrl': 'https://www.reed.co.uk/jobs/senior-technical-pricing-analyst/48660309'}, {'jobId': 48118946, 'employerId': 659848, 'employerName': 'GBR Recruitment Ltd', 'employerProfileId': None, 'employerProfileName': None, 'jobTitle': 'Senior Data Analyst', 'locationName': 'Luton', 'minimumSalary': 65000.0, 'maximumSalary': 75000.0, 'currency': 'GBP', 'expirationDate': '15/12/2022', 'date': '07/09/2022', 'jobDescription': ' GBR Recruitment Ltd are working with a major Data Solutions business recruiting for a highly experienced Senior Data Analyst who has a strong presence with major customers, a key player that is able to successful assist with Data Solution  selling / solution integration / performance reviews &amp; Data manipulation / analysis to benefit the end using high profile client/s. This highly Analytical role involves ... ', 'applications': 30, 'jobUrl': 'https://www.reed.co.uk/jobs/senior-data-analyst/48118946'}, {'jobId': 48118940, 'employerId': 659848, 'employerName': 'GBR Recruitment Ltd', 'employerProfileId': None, 'employerProfileName': None, 'jobTitle': 'Senior Data Analyst', 'locationName': 'Bletchley', 'minimumSalary': 65000.0, 'maximumSalary': 75000.0, 'currency': 'GBP', 'expirationDate': '15/12/2022', 'date': '07/09/2022', 'jobDescription': ' GBR Recruitment Ltd are working with a major Data Solutions business recruiting for a highly experienced Senior Data Analyst who has a strong presence with major customers, a key player that is able to successful assist with Data Solution  selling / solution integration / performance reviews &amp; Data manipulation / analysis to benefit the end using high profile client/s. This highly Analytical role involves ... ', 'applications': 35, 'jobUrl': 'https://www.reed.co.uk/jobs/senior-data-analyst/48118940'}, {'jobId': 48607185, 'employerId': 451880, 'employerName': 'Corriculo Ltd', 'employerProfileId': None, 'employerProfileName': None, 'jobTitle': 'Support Engineer, DevOps, Linux, Python / PHP', 'locationName': 'Aylesbury', 'minimumSalary': 25000.0, 'maximumSalary': 45000.0, 'currency': 'GBP', 'expirationDate': '01/12/2022', 'date': '20/10/2022', 'jobDescription': ' Support Engineer, DevOps, Linux, Python / PHP Joining this established and highly successful company just outside of Aylesbury, with opportunities for remote working, the DevOps Engineer role is a fantastic opportunity for either a candidate with existing DevOps experience, or a Linux Systems Administrator,  or even Applications Support Engineer, looking to gain DevOps skills in the support of a high-availability, cli... ', 'applications': 4, 'jobUrl': 'https://www.reed.co.uk/jobs/support-engineer-devops-linux-python-php/48607185'}, {'jobId': 48569558, 'employerId': 432282, 'employerName': 'Oscar Technology', 'employerProfileId': None, 'employerProfileName': None, 'jobTitle': 'Data and Insights Analyst', 'locationName': 'Knutsford', 'minimumSalary': 50000.0, 'maximumSalary': 65000.0, 'currency': 'GBP', 'expirationDate': '29/11/2022', 'date': '18/10/2022', 'jobDescription': ' Role - Senior Data Analyst Location - Knutsford - Cheshire  Salary - up to &#163;65,000 dependant on experience.  Skills - SQL / PowerBI Work Pattern - Office Based 5 days per week Summary We have a rare opportunity for a Senior Data Analyst for a rapidly growing company based in Cheshire.  <s... ', 'applications': 8, 'jobUrl': 'https://www.reed.co.uk/jobs/data-and-insights-analyst/48569558'}, {'jobId': 48569102, 'employerId': 432282, 'employerName': 'Oscar Technology', 'employerProfileId': None, 'employerProfileName': None, 'jobTitle': 'Graduate Data and Insight Analyst', 'locationName': 'Knutsford', 'minimumSalary': 30000.0, 'maximumSalary': 45000.0, 'currency': 'GBP', 'expirationDate': '29/11/2022', 'date': '18/10/2022', 'jobDescription': ' Role - Graduate Data Analyst or Junior Data Analyst Location - Knutsford - Cheshire  Salary - up to &#163;45,000 dependant on experience.  Skills - SQL / PowerBI Work Pattern - Office Based 5 days per week Summary We have a rare opportunity for a Junior Data Analyst for a rapidly growing company base... ', 'applications': 64, 'jobUrl': 'https://www.reed.co.uk/jobs/graduate-data-and-insight-analyst/48569102'}, {'jobId': 48554734, 'employerId': 563926, 'employerName': 'Akkodis', 'employerProfileId': None, 'employerProfileName': None, 'jobTitle': 'Senior Threat Intelligence Analyst - MITRE ATT&CK, SIEM, EDR', 'locationName': 'London', 'minimumSalary': None, 'maximumSalary': None, 'currency': None, 'expirationDate': '28/11/2022', 'date': '17/10/2022', 'jobDescription': ' Senior Threat Intelligence Analyst - MITRE ATT&amp;CK, Threat, SIEM, IR, EDR Salary &#43; Bonus &#43; Benefits &#43; Hybrid working / London  Are you looking for a new opportunity in a Threat Intelligence environment? Well, look no further as I am working with an established Cyber Security consultancy who have excelled year on year to bring their expertise to ens... ', 'applications': 6, 'jobUrl': 'https://www.reed.co.uk/jobs/senior-threat-intelligence-analyst-mitre-att-ck-siem-edr/48554734'}, {'jobId': 48539149, 'employerId': 331522, 'employerName': 'Harnham', 'employerProfileId': None, 'employerProfileName': None, 'jobTitle': 'Product Analytics Lead', 'locationName': 'Derby', 'minimumSalary': 75000.0, 'maximumSalary': 75000.0, 'currency': 'GBP', 'expirationDate': '25/11/2022', 'date': '14/10/2022', 'jobDescription': ' PRODUCT ANALYTICS LEAD UP TO &#163;75,000 REMOTE This role is a great opportunity for a Lead Product Analyst to join a reputable online marketplace company. THE COMPANY The well-renowned company is known for its online marketplace where people can sell products and promote services, whether locally, domestically or worldwide. They have mill... ', 'applications': 5, 'jobUrl': 'https://www.reed.co.uk/jobs/product-analytics-lead/48539149'}, {'jobId': 48538989, 'employerId': 331522, 'employerName': 'Harnham', 'employerProfileId': None, 'employerProfileName': None, 'jobTitle': 'Product Analytics Lead', 'locationName': 'Nottingham', 'minimumSalary': 75000.0, 'maximumSalary': 75000.0, 'currency': 'GBP', 'expirationDate': '25/11/2022', 'date': '14/10/2022', 'jobDescription': ' PRODUCT ANALYTICS LEAD UP TO &#163;75,000 REMOTE This role is a great opportunity for a Lead Product Analyst to join a reputable online marketplace company. THE COMPANY The well-renowned company is known for its online marketplace where people can sell products and promote services, whether locally, domestically or worldwide. They have mill... ', 'applications': 5, 'jobUrl': 'https://www.reed.co.uk/jobs/product-analytics-lead/48538989'}, {'jobId': 48525377, 'employerId': 331522, 'employerName': 'Harnham', 'employerProfileId': None, 'employerProfileName': None, 'jobTitle': 'Product Analytics Manager', 'locationName': 'Birmingham', 'minimumSalary': 75000.0, 'maximumSalary': 75000.0, 'currency': 'GBP', 'expirationDate': '24/11/2022', 'date': '13/10/2022', 'jobDescription': ' PRODUCT ANALYTICS MANAGER UP TO &#163;75,000 REMOTE This role is a fantastic opportunity for a product analyst to take on an exciting managerial role THE COMPANY The well-renowned company is known for its online marketplace where people can sell products and promote services, whether locally, domestically or worldwide. They have millions of... ', 'applications': 5, 'jobUrl': 'https://www.reed.co.uk/jobs/product-analytics-manager/48525377'}, {'jobId': 48518770, 'employerId': 300264, 'employerName': 'Client Server Ltd.', 'employerProfileId': None, 'employerProfileName': None, 'jobTitle': 'Senior Trade Operations Support Analyst', 'locationName': 'London', 'minimumSalary': 110000.0, 'maximumSalary': 150000.0, 'currency': 'GBP', 'expirationDate': '10/11/2022', 'date': '13/10/2022', 'jobDescription': ' Senior Trade Operations Support Analyst (Linux / UNIX SQL) *Hybrid WFH*. Are you an experienced Trade Operations Analyst with a strong understanding of Linux and financial trading markets? You could be progressing your career in a senior, hands-on role at a massively profitable Hedge Fund and enjoying perks including crown estate offices with in-house gym and yoga, break out areas, ergonomic desks and onsite restaurant as well as a hy... ', 'applications': 11, 'jobUrl': 'https://www.reed.co.uk/jobs/senior-trade-operations-support-analyst/48518770'}, {'jobId': 48518050, 'employerId': 355478, 'employerName': 'Hasson Associates Recruitment Ltd', 'employerProfileId': None, 'employerProfileName': None, 'jobTitle': 'Survey Programmer - Decipher/ Confirmit', 'locationName': 'London', 'minimumSalary': 35000.0, 'maximumSalary': 45000.0, 'currency': 'GBP', 'expirationDate': '10/11/2022', 'date': '13/10/2022', 'jobDescription': \" Bio:Boutique Full Service Agency with an impressive portfolio of global clients across consumer and B2B sectors. What's the opportunity?Reporting to the Operations Director, the Survey Programming Consultant will be responsible for taking projects from a questionnaire format onto a survey link using programming tools. The key responsibilities of this scripting consultant role includ... \", 'applications': 4, 'jobUrl': 'https://www.reed.co.uk/jobs/survey-programmer-decipher-confirmit/48518050'}, {'jobId': 48493781, 'employerId': 605600, 'employerName': 'Glenelly Recruitment Solutions', 'employerProfileId': None, 'employerProfileName': None, 'jobTitle': 'Software Quality Analyst', 'locationName': 'Elstree', 'minimumSalary': 35000.0, 'maximumSalary': 42000.0, 'currency': 'GBP', 'expirationDate': '22/11/2022', 'date': '11/10/2022', 'jobDescription': ' Software Quality Analyst required to join high tech company working with optical fiber sensors and developing real time data streams and analysis for their clients based all over the world. This role would a skilled QA Engineer or software test analyst who  can adapt to a challenging and varied position. For this Software Quality Analyst role you should have the following skills and experience -   Test case / plan tools </... ', 'applications': 30, 'jobUrl': 'https://www.reed.co.uk/jobs/software-quality-analyst/48493781'}, {'jobId': 48470597, 'employerId': 162291, 'employerName': 'Elevate Recruitment Limited', 'employerProfileId': None, 'employerProfileName': None, 'jobTitle': 'Software Support Analyst', 'locationName': 'St. Asaph', 'minimumSalary': 30000.0, 'maximumSalary': 40000.0, 'currency': 'GBP', 'expirationDate': '21/11/2022', 'date': '10/10/2022', 'jobDescription': ' Software Support Analyst required by fast-growing international software solution company. Working with clients and internal teams delivering first rate business solutions. This is a fantastic opportunity to join a close-knit team based in Denbighshire (with  hybrid working) and enjoying a salary up to &#163;40k plus benefits. Software Support Analyst - Skills and Experience  Good proficiency with Microsof... ', 'applications': 3, 'jobUrl': 'https://www.reed.co.uk/jobs/software-support-analyst/48470597'}, {'jobId': 48361904, 'employerId': 72552, 'employerName': 'Omni RMS', 'employerProfileId': None, 'employerProfileName': None, 'jobTitle': 'Investment Risk Analyst', 'locationName': 'London', 'minimumSalary': None, 'maximumSalary': None, 'currency': None, 'expirationDate': '11/11/2022', 'date': '30/09/2022', 'jobDescription': ' Investment Risk Analyst | Financial Services City of London/Hybrid Company: My client, a well-known market leading Financial Services organisation, is seeking an Investment Risk Analyst to join them on a 12 month FTC. The role As an Investment Risk Analyst, you will be part of the Performance and Investment Risk Team, supporting the production of investment risk reports and analysis for the... ', 'applications': 26, 'jobUrl': 'https://www.reed.co.uk/jobs/investment-risk-analyst/48361904'}, {'jobId': 48561528, 'employerId': 412685, 'employerName': 'Nigel Frank International', 'employerProfileId': None, 'employerProfileName': None, 'jobTitle': 'Senior Network Engineer', 'locationName': 'Peterborough', 'minimumSalary': 50000.0, 'maximumSalary': 60000.0, 'currency': 'GBP', 'expirationDate': '28/11/2022', 'date': '17/10/2022', 'jobDescription': \" Job Description I am currently working with one of the leading MSP's in the UK who are looking to grow their already established team of Engineers. They are one of the UK's largest Internet providers and they take pride in providing award winning services to customers around  the UK. My clients are working on a number of exciting projects and are looking to add a number of Engineers to their team before the end of the... \", 'applications': 8, 'jobUrl': 'https://www.reed.co.uk/jobs/senior-network-engineer/48561528'}, {'jobId': 48539232, 'employerId': 351453, 'employerName': 'Blue Pelican', 'employerProfileId': None, 'employerProfileName': None, 'jobTitle': 'Lead CRM Analyst - App Based Pet Loyalty Platform', 'locationName': 'London', 'minimumSalary': 50000.0, 'maximumSalary': 65000.0, 'currency': 'GBP', 'expirationDate': '25/11/2022', 'date': '14/10/2022', 'jobDescription': ' Role:&nbsp;&nbsp;&nbsp;&nbsp;&nbsp;&nbsp;&nbsp;&nbsp;&nbsp;&nbsp;&nbsp;&nbsp;&nbsp;&nbsp;&nbsp;&nbsp;&nbsp;&nbsp;&nbsp;&nbsp; Lead CRM Analyst – App Based Pet Loyalty PlatformLocation:&nbsp;&nbsp;&nbsp;&nbsp;&nbsp;&nbsp;&nbsp;&nbsp;&nbsp;&nbsp;&nbsp;&nbsp; Principally UK remote, with meetings in London once a month Salary:&nbsp;&nbsp;&nbsp;&nbsp;&nbsp;&nbsp;&nbsp;&nbsp;&nbsp;&nbsp;&nbsp;&nbsp;&nbsp;&nbsp;&nbs... ', 'applications': 4, 'jobUrl': 'https://www.reed.co.uk/jobs/lead-crm-analyst-app-based-pet-loyalty-platform/48539232'}, {'jobId': 48477092, 'employerId': 412685, 'employerName': 'Nigel Frank International', 'employerProfileId': None, 'employerProfileName': None, 'jobTitle': 'Network Engineer', 'locationName': 'Rochdale', 'minimumSalary': 60000.0, 'maximumSalary': 60000.0, 'currency': 'GBP', 'expirationDate': '21/11/2022', 'date': '10/10/2022', 'jobDescription': \" Job Description I am currently working with one of the leading MSP's in the UK who are looking to grow their already established team of Engineers. They are one of the UK's largest Internet providers and they take pride in providing award winning services to customers around  the UK. My clients are working on a number of exciting projects and are looking to add a number of Engineers to their team before the end of the... \", 'applications': 15, 'jobUrl': 'https://www.reed.co.uk/jobs/network-engineer/48477092'}, {'jobId': 48742415, 'employerId': 629474, 'employerName': 'eFinancialCareers', 'employerProfileId': None, 'employerProfileName': None, 'jobTitle': 'Investment Risk Analyst', 'locationName': 'London', 'minimumSalary': None, 'maximumSalary': None, 'currency': None, 'expirationDate': '15/12/2022', 'date': '03/11/2022', 'jobDescription': ' Key Responsibilities Delivering Results  Assist with day-to-day production of risk analysis and reportsContribute to delivery of projects from end-to-end, including planning, gathering requirements and testingContribute to instrumental risk modellingAssist with the implementation &amp; enhancement of reporting automation within the Performance and Investment Risk... ', 'applications': 4, 'jobUrl': 'https://www.reed.co.uk/jobs/investment-risk-analyst/48742415'}, {'jobId': 48742162, 'employerId': 629474, 'employerName': 'eFinancialCareers', 'employerProfileId': None, 'employerProfileName': None, 'jobTitle': 'Senior Data Engineer', 'locationName': 'London', 'minimumSalary': None, 'maximumSalary': None, 'currency': None, 'expirationDate': '15/12/2022', 'date': '03/11/2022', 'jobDescription': \"Who are we?We want to help small businesses win. That's why we're here. We connect small business owners to investors - to create jobs, help families and power economies - because we believe that people are made to do more. So far our investors have lent &#163;13.7 billion through it to 122,000 SME owners. In just one year, we unlocked 100,000 jobs and contributed &#163;7.2 billion to the UK economy. At Fundi... \", 'applications': 1, 'jobUrl': 'https://www.reed.co.uk/jobs/senior-data-engineer/48742162'}, {'jobId': 48809257, 'employerId': 629474, 'employerName': 'eFinancialCareers', 'employerProfileId': None, 'employerProfileName': None, 'jobTitle': 'Senior Data Analyst', 'locationName': 'London', 'minimumSalary': None, 'maximumSalary': None, 'currency': None, 'expirationDate': '19/12/2022', 'date': '07/11/2022', 'jobDescription': ' About Stable Builders with a vision and a passion for solving real world problems. That’s the best way to describe our team at Stable. Our researchers estimate that price risk for roughly 90% of commodities – like the food on our tables – cannot be hedged. In a world  where volatility is more or less the norm, this represents a huge challenge. And at Stable, where we see a challenge, we also see an opportunity. <p... ', 'applications': 2, 'jobUrl': 'https://www.reed.co.uk/jobs/senior-data-analyst/48809257'}]\n"
     ]
    }
   ],
   "source": [
    "print(response)"
   ]
  },
  {
   "cell_type": "code",
   "execution_count": 10,
   "metadata": {},
   "outputs": [],
   "source": [
    "df = pd.DataFrame(response)"
   ]
  },
  {
   "cell_type": "code",
   "execution_count": 12,
   "metadata": {},
   "outputs": [
    {
     "data": {
      "text/html": [
       "<div>\n",
       "<style scoped>\n",
       "    .dataframe tbody tr th:only-of-type {\n",
       "        vertical-align: middle;\n",
       "    }\n",
       "\n",
       "    .dataframe tbody tr th {\n",
       "        vertical-align: top;\n",
       "    }\n",
       "\n",
       "    .dataframe thead th {\n",
       "        text-align: right;\n",
       "    }\n",
       "</style>\n",
       "<table border=\"1\" class=\"dataframe\">\n",
       "  <thead>\n",
       "    <tr style=\"text-align: right;\">\n",
       "      <th></th>\n",
       "      <th>jobId</th>\n",
       "      <th>employerId</th>\n",
       "      <th>employerName</th>\n",
       "      <th>employerProfileId</th>\n",
       "      <th>employerProfileName</th>\n",
       "      <th>jobTitle</th>\n",
       "      <th>locationName</th>\n",
       "      <th>minimumSalary</th>\n",
       "      <th>maximumSalary</th>\n",
       "      <th>currency</th>\n",
       "      <th>expirationDate</th>\n",
       "      <th>date</th>\n",
       "      <th>jobDescription</th>\n",
       "      <th>applications</th>\n",
       "      <th>jobUrl</th>\n",
       "    </tr>\n",
       "  </thead>\n",
       "  <tbody>\n",
       "    <tr>\n",
       "      <th>0</th>\n",
       "      <td>48809236</td>\n",
       "      <td>331522</td>\n",
       "      <td>Harnham</td>\n",
       "      <td>None</td>\n",
       "      <td>None</td>\n",
       "      <td>Sanctions Screening Client Sales Lead</td>\n",
       "      <td>London</td>\n",
       "      <td>100000.0</td>\n",
       "      <td>130000.0</td>\n",
       "      <td>GBP</td>\n",
       "      <td>19/12/2022</td>\n",
       "      <td>07/11/2022</td>\n",
       "      <td>Sanctions Screening Client Sales Lead London ...</td>\n",
       "      <td>3</td>\n",
       "      <td>https://www.reed.co.uk/jobs/sanctions-screenin...</td>\n",
       "    </tr>\n",
       "    <tr>\n",
       "      <th>1</th>\n",
       "      <td>48928712</td>\n",
       "      <td>653512</td>\n",
       "      <td>LHH Recruitment Solutions</td>\n",
       "      <td>None</td>\n",
       "      <td>None</td>\n",
       "      <td>Marketing Director</td>\n",
       "      <td>London</td>\n",
       "      <td>110000.0</td>\n",
       "      <td>120000.0</td>\n",
       "      <td>GBP</td>\n",
       "      <td>27/12/2022</td>\n",
       "      <td>15/11/2022</td>\n",
       "      <td>I am representing the largest global mobile v...</td>\n",
       "      <td>25</td>\n",
       "      <td>https://www.reed.co.uk/jobs/marketing-director...</td>\n",
       "    </tr>\n",
       "    <tr>\n",
       "      <th>2</th>\n",
       "      <td>48809156</td>\n",
       "      <td>578236</td>\n",
       "      <td>Hansen Filler</td>\n",
       "      <td>None</td>\n",
       "      <td>None</td>\n",
       "      <td>Interim HR Process Lead</td>\n",
       "      <td>London</td>\n",
       "      <td>450.0</td>\n",
       "      <td>550.0</td>\n",
       "      <td>GBP</td>\n",
       "      <td>19/12/2022</td>\n",
       "      <td>07/11/2022</td>\n",
       "      <td>We are currently working alongside a leading ...</td>\n",
       "      <td>35</td>\n",
       "      <td>https://www.reed.co.uk/jobs/interim-hr-process...</td>\n",
       "    </tr>\n",
       "    <tr>\n",
       "      <th>3</th>\n",
       "      <td>48928625</td>\n",
       "      <td>391063</td>\n",
       "      <td>Opus Recruitment Solutions Ltd</td>\n",
       "      <td>None</td>\n",
       "      <td>None</td>\n",
       "      <td>Senior Account Executive</td>\n",
       "      <td>London</td>\n",
       "      <td>100000.0</td>\n",
       "      <td>150000.0</td>\n",
       "      <td>GBP</td>\n",
       "      <td>27/12/2022</td>\n",
       "      <td>15/11/2022</td>\n",
       "      <td>Senior Sales Executive/ Location: London / UK ...</td>\n",
       "      <td>3</td>\n",
       "      <td>https://www.reed.co.uk/jobs/senior-account-exe...</td>\n",
       "    </tr>\n",
       "    <tr>\n",
       "      <th>4</th>\n",
       "      <td>48809060</td>\n",
       "      <td>331522</td>\n",
       "      <td>Harnham</td>\n",
       "      <td>None</td>\n",
       "      <td>None</td>\n",
       "      <td>Sales Consultant</td>\n",
       "      <td>London</td>\n",
       "      <td>90000.0</td>\n",
       "      <td>130000.0</td>\n",
       "      <td>GBP</td>\n",
       "      <td>19/12/2022</td>\n",
       "      <td>07/11/2022</td>\n",
       "      <td>SALES CONSULTANT &amp;#163;90,000 - &amp;#163;130,000...</td>\n",
       "      <td>7</td>\n",
       "      <td>https://www.reed.co.uk/jobs/sales-consultant/4...</td>\n",
       "    </tr>\n",
       "  </tbody>\n",
       "</table>\n",
       "</div>"
      ],
      "text/plain": [
       "      jobId  employerId                    employerName employerProfileId  \\\n",
       "0  48809236      331522                         Harnham              None   \n",
       "1  48928712      653512       LHH Recruitment Solutions              None   \n",
       "2  48809156      578236                  Hansen Filler               None   \n",
       "3  48928625      391063  Opus Recruitment Solutions Ltd              None   \n",
       "4  48809060      331522                         Harnham              None   \n",
       "\n",
       "  employerProfileName                               jobTitle locationName  \\\n",
       "0                None  Sanctions Screening Client Sales Lead       London   \n",
       "1                None                     Marketing Director       London   \n",
       "2                None               Interim HR Process Lead        London   \n",
       "3                None               Senior Account Executive       London   \n",
       "4                None                       Sales Consultant       London   \n",
       "\n",
       "   minimumSalary  maximumSalary currency expirationDate        date  \\\n",
       "0       100000.0       130000.0      GBP     19/12/2022  07/11/2022   \n",
       "1       110000.0       120000.0      GBP     27/12/2022  15/11/2022   \n",
       "2          450.0          550.0      GBP     19/12/2022  07/11/2022   \n",
       "3       100000.0       150000.0      GBP     27/12/2022  15/11/2022   \n",
       "4        90000.0       130000.0      GBP     19/12/2022  07/11/2022   \n",
       "\n",
       "                                      jobDescription  applications  \\\n",
       "0   Sanctions Screening Client Sales Lead London ...             3   \n",
       "1   I am representing the largest global mobile v...            25   \n",
       "2   We are currently working alongside a leading ...            35   \n",
       "3  Senior Sales Executive/ Location: London / UK ...             3   \n",
       "4   SALES CONSULTANT &#163;90,000 - &#163;130,000...             7   \n",
       "\n",
       "                                              jobUrl  \n",
       "0  https://www.reed.co.uk/jobs/sanctions-screenin...  \n",
       "1  https://www.reed.co.uk/jobs/marketing-director...  \n",
       "2  https://www.reed.co.uk/jobs/interim-hr-process...  \n",
       "3  https://www.reed.co.uk/jobs/senior-account-exe...  \n",
       "4  https://www.reed.co.uk/jobs/sales-consultant/4...  "
      ]
     },
     "execution_count": 12,
     "metadata": {},
     "output_type": "execute_result"
    }
   ],
   "source": [
    "df.head()"
   ]
  },
  {
   "cell_type": "code",
   "execution_count": 13,
   "metadata": {},
   "outputs": [
    {
     "data": {
      "text/plain": [
       "100"
      ]
     },
     "execution_count": 13,
     "metadata": {},
     "output_type": "execute_result"
    }
   ],
   "source": [
    "len(df.index)"
   ]
  },
  {
   "cell_type": "markdown",
   "metadata": {},
   "source": [
    "#### Transformation 1\n",
    "The first step is to drop all of the unecessary columns from this df. In order to join to the other two datasets, I think it would be most helpful to just aggregate the API table in order to give context to # of jobs available in the market. If I leave unique rows, there is no true connection to the flat file."
   ]
  },
  {
   "cell_type": "code",
   "execution_count": 14,
   "metadata": {},
   "outputs": [],
   "source": [
    "df = df.drop(['jobId', 'employerId', 'employerName', 'employerProfileId', 'employerProfileName', 'expirationDate', 'date', 'jobDescription', 'jobUrl'] , axis=1)"
   ]
  },
  {
   "cell_type": "code",
   "execution_count": 15,
   "metadata": {},
   "outputs": [
    {
     "data": {
      "text/html": [
       "<div>\n",
       "<style scoped>\n",
       "    .dataframe tbody tr th:only-of-type {\n",
       "        vertical-align: middle;\n",
       "    }\n",
       "\n",
       "    .dataframe tbody tr th {\n",
       "        vertical-align: top;\n",
       "    }\n",
       "\n",
       "    .dataframe thead th {\n",
       "        text-align: right;\n",
       "    }\n",
       "</style>\n",
       "<table border=\"1\" class=\"dataframe\">\n",
       "  <thead>\n",
       "    <tr style=\"text-align: right;\">\n",
       "      <th></th>\n",
       "      <th>jobTitle</th>\n",
       "      <th>locationName</th>\n",
       "      <th>minimumSalary</th>\n",
       "      <th>maximumSalary</th>\n",
       "      <th>currency</th>\n",
       "      <th>applications</th>\n",
       "    </tr>\n",
       "  </thead>\n",
       "  <tbody>\n",
       "    <tr>\n",
       "      <th>0</th>\n",
       "      <td>Sanctions Screening Client Sales Lead</td>\n",
       "      <td>London</td>\n",
       "      <td>100000.0</td>\n",
       "      <td>130000.0</td>\n",
       "      <td>GBP</td>\n",
       "      <td>3</td>\n",
       "    </tr>\n",
       "    <tr>\n",
       "      <th>1</th>\n",
       "      <td>Marketing Director</td>\n",
       "      <td>London</td>\n",
       "      <td>110000.0</td>\n",
       "      <td>120000.0</td>\n",
       "      <td>GBP</td>\n",
       "      <td>25</td>\n",
       "    </tr>\n",
       "    <tr>\n",
       "      <th>2</th>\n",
       "      <td>Interim HR Process Lead</td>\n",
       "      <td>London</td>\n",
       "      <td>450.0</td>\n",
       "      <td>550.0</td>\n",
       "      <td>GBP</td>\n",
       "      <td>35</td>\n",
       "    </tr>\n",
       "    <tr>\n",
       "      <th>3</th>\n",
       "      <td>Senior Account Executive</td>\n",
       "      <td>London</td>\n",
       "      <td>100000.0</td>\n",
       "      <td>150000.0</td>\n",
       "      <td>GBP</td>\n",
       "      <td>3</td>\n",
       "    </tr>\n",
       "    <tr>\n",
       "      <th>4</th>\n",
       "      <td>Sales Consultant</td>\n",
       "      <td>London</td>\n",
       "      <td>90000.0</td>\n",
       "      <td>130000.0</td>\n",
       "      <td>GBP</td>\n",
       "      <td>7</td>\n",
       "    </tr>\n",
       "  </tbody>\n",
       "</table>\n",
       "</div>"
      ],
      "text/plain": [
       "                                jobTitle locationName  minimumSalary  \\\n",
       "0  Sanctions Screening Client Sales Lead       London       100000.0   \n",
       "1                     Marketing Director       London       110000.0   \n",
       "2               Interim HR Process Lead        London          450.0   \n",
       "3               Senior Account Executive       London       100000.0   \n",
       "4                       Sales Consultant       London        90000.0   \n",
       "\n",
       "   maximumSalary currency  applications  \n",
       "0       130000.0      GBP             3  \n",
       "1       120000.0      GBP            25  \n",
       "2          550.0      GBP            35  \n",
       "3       150000.0      GBP             3  \n",
       "4       130000.0      GBP             7  "
      ]
     },
     "execution_count": 15,
     "metadata": {},
     "output_type": "execute_result"
    }
   ],
   "source": [
    "df.head()"
   ]
  },
  {
   "cell_type": "code",
   "execution_count": 16,
   "metadata": {},
   "outputs": [
    {
     "name": "stdout",
     "output_type": "stream",
     "text": [
      "['London' 'Southport' 'Leeds' 'Birmingham' 'Oxford' 'Barnet' 'Cambridge'\n",
      " 'Blyth' 'City of London' 'Dublin' 'Manchester' 'Parrett Works' 'Cheshire'\n",
      " 'Penn' 'Bournemouth' 'Milan' 'Glasgow' 'Basingstoke' 'Wrexham' 'Camden'\n",
      " 'United Kingdom' 'Nursling' 'Reading' 'Derby' 'Cardiff' 'Dubai' 'Croydon'\n",
      " 'Chelmsford' 'Fulham' 'Malvern' 'USA' 'Bristol' 'West Midlands (Region)'\n",
      " 'Sheffield' 'Peterborough' 'Swanley' 'South East England' 'Vienna'\n",
      " 'Ascot' 'Milton Keynes']\n"
     ]
    }
   ],
   "source": [
    "print(df['locationName'].unique())"
   ]
  },
  {
   "cell_type": "code",
   "execution_count": 19,
   "metadata": {},
   "outputs": [],
   "source": [
    "df = df.drop('locationName', axis=1)"
   ]
  },
  {
   "cell_type": "markdown",
   "metadata": {},
   "source": [
    "#### Transformation 2\n",
    "Second transformation is to drop any results with no salary or currency information. "
   ]
  },
  {
   "cell_type": "code",
   "execution_count": 17,
   "metadata": {},
   "outputs": [
    {
     "name": "stdout",
     "output_type": "stream",
     "text": [
      "['GBP' None 'EUR' 'USD']\n"
     ]
    }
   ],
   "source": [
    "print(df['currency'].unique())"
   ]
  },
  {
   "cell_type": "code",
   "execution_count": 20,
   "metadata": {},
   "outputs": [],
   "source": [
    "df = df[df.currency.notnull()]"
   ]
  },
  {
   "cell_type": "code",
   "execution_count": 21,
   "metadata": {},
   "outputs": [],
   "source": [
    "df = df[df.maximumSalary.notnull()]"
   ]
  },
  {
   "cell_type": "markdown",
   "metadata": {},
   "source": [
    "#### Transformation 3\n",
    "Third transformation is to check for any outliers in the salary."
   ]
  },
  {
   "cell_type": "code",
   "execution_count": 84,
   "metadata": {},
   "outputs": [],
   "source": [
    "import numpy as np"
   ]
  },
  {
   "cell_type": "code",
   "execution_count": 23,
   "metadata": {},
   "outputs": [
    {
     "data": {
      "image/png": "[encoded data removed]",
      "text/plain": [
       "<Figure size 432x288 with 1 Axes>"
      ]
     },
     "metadata": {
      "needs_background": "light"
     },
     "output_type": "display_data"
    }
   ],
   "source": [
    "import seaborn as sns\n",
    "import matplotlib.pyplot as plt\n",
    "\n",
    "sns.boxplot(x = df['minimumSalary'])\n",
    "plt.show()"
   ]
  },
  {
   "cell_type": "code",
   "execution_count": 24,
   "metadata": {},
   "outputs": [
    {
     "data": {
      "text/plain": [
       "count        75.000000\n",
       "mean      72961.846667\n",
       "std       52761.942584\n",
       "min          38.500000\n",
       "25%       40000.000000\n",
       "50%       80000.000000\n",
       "75%      100000.000000\n",
       "max      300000.000000\n",
       "Name: minimumSalary, dtype: float64"
      ]
     },
     "execution_count": 24,
     "metadata": {},
     "output_type": "execute_result"
    }
   ],
   "source": [
    "df['minimumSalary'].describe()"
   ]
  },
  {
   "cell_type": "code",
   "execution_count": 27,
   "metadata": {},
   "outputs": [
    {
     "data": {
      "text/plain": [
       "40000.0"
      ]
     },
     "execution_count": 27,
     "metadata": {},
     "output_type": "execute_result"
    }
   ],
   "source": [
    "df['minimumSalary'].quantile(0.25)"
   ]
  },
  {
   "cell_type": "code",
   "execution_count": 28,
   "metadata": {},
   "outputs": [
    {
     "data": {
      "text/plain": [
       "100000.0"
      ]
     },
     "execution_count": 28,
     "metadata": {},
     "output_type": "execute_result"
    }
   ],
   "source": [
    "df['minimumSalary'].quantile(0.75)"
   ]
  },
  {
   "cell_type": "code",
   "execution_count": 44,
   "metadata": {},
   "outputs": [],
   "source": [
    "Q1 = df['minimumSalary'].quantile(0.25)\n",
    "Q3 = df['minimumSalary'].quantile(0.75)\n",
    "IQR = Q3 - Q1"
   ]
  },
  {
   "cell_type": "code",
   "execution_count": 45,
   "metadata": {},
   "outputs": [
    {
     "data": {
      "text/plain": [
       "60000.0"
      ]
     },
     "execution_count": 45,
     "metadata": {},
     "output_type": "execute_result"
    }
   ],
   "source": [
    "IQR"
   ]
  },
  {
   "cell_type": "code",
   "execution_count": 32,
   "metadata": {},
   "outputs": [],
   "source": [
    "lower_lim = Q1 - 1.5 * IQR\n",
    "upper_lim = Q3 + 1.5 * IQR"
   ]
  },
  {
   "cell_type": "code",
   "execution_count": 33,
   "metadata": {},
   "outputs": [
    {
     "data": {
      "text/plain": [
       "-50000.0"
      ]
     },
     "execution_count": 33,
     "metadata": {},
     "output_type": "execute_result"
    }
   ],
   "source": [
    "lower_lim"
   ]
  },
  {
   "cell_type": "code",
   "execution_count": 34,
   "metadata": {},
   "outputs": [
    {
     "data": {
      "text/plain": [
       "190000.0"
      ]
     },
     "execution_count": 34,
     "metadata": {},
     "output_type": "execute_result"
    }
   ],
   "source": [
    "upper_lim"
   ]
  },
  {
   "cell_type": "code",
   "execution_count": 49,
   "metadata": {},
   "outputs": [],
   "source": [
    "outliers_15_low = (df['minimumSalary'] < lower_lim)"
   ]
  },
  {
   "cell_type": "code",
   "execution_count": 50,
   "metadata": {},
   "outputs": [],
   "source": [
    "outliers_15_up = (df['minimumSalary'] > upper_lim)"
   ]
  },
  {
   "cell_type": "code",
   "execution_count": 51,
   "metadata": {},
   "outputs": [
    {
     "data": {
      "text/plain": [
       "75"
      ]
     },
     "execution_count": 51,
     "metadata": {},
     "output_type": "execute_result"
    }
   ],
   "source": [
    "len(df['minimumSalary']) - len(df['minimumSalary'][outliers_15_low] + len(df['minimumSalary'][outliers_15_up]))"
   ]
  },
  {
   "cell_type": "code",
   "execution_count": 52,
   "metadata": {},
   "outputs": [
    {
     "data": {
      "text/plain": [
       "23    300000.0\n",
       "Name: minimumSalary, dtype: float64"
      ]
     },
     "execution_count": 52,
     "metadata": {},
     "output_type": "execute_result"
    }
   ],
   "source": [
    "df['minimumSalary'][(outliers_15_low | outliers_15_up)]"
   ]
  },
  {
   "cell_type": "code",
   "execution_count": 53,
   "metadata": {},
   "outputs": [
    {
     "data": {
      "text/plain": [
       "0     100000.0\n",
       "1     110000.0\n",
       "2        450.0\n",
       "3     100000.0\n",
       "4      90000.0\n",
       "        ...   \n",
       "91     80000.0\n",
       "92    100000.0\n",
       "93     80000.0\n",
       "94     51000.0\n",
       "98       300.0\n",
       "Name: minimumSalary, Length: 74, dtype: float64"
      ]
     },
     "execution_count": 53,
     "metadata": {},
     "output_type": "execute_result"
    }
   ],
   "source": [
    "df['minimumSalary'][-(outliers_15_low | outliers_15_up)]"
   ]
  },
  {
   "cell_type": "code",
   "execution_count": 54,
   "metadata": {},
   "outputs": [],
   "source": [
    "df = df[-(outliers_15_low | outliers_15_up)]"
   ]
  },
  {
   "cell_type": "code",
   "execution_count": 55,
   "metadata": {},
   "outputs": [
    {
     "data": {
      "text/html": [
       "<div>\n",
       "<style scoped>\n",
       "    .dataframe tbody tr th:only-of-type {\n",
       "        vertical-align: middle;\n",
       "    }\n",
       "\n",
       "    .dataframe tbody tr th {\n",
       "        vertical-align: top;\n",
       "    }\n",
       "\n",
       "    .dataframe thead th {\n",
       "        text-align: right;\n",
       "    }\n",
       "</style>\n",
       "<table border=\"1\" class=\"dataframe\">\n",
       "  <thead>\n",
       "    <tr style=\"text-align: right;\">\n",
       "      <th></th>\n",
       "      <th>jobTitle</th>\n",
       "      <th>minimumSalary</th>\n",
       "      <th>maximumSalary</th>\n",
       "      <th>currency</th>\n",
       "      <th>applications</th>\n",
       "    </tr>\n",
       "  </thead>\n",
       "  <tbody>\n",
       "    <tr>\n",
       "      <th>0</th>\n",
       "      <td>Sanctions Screening Client Sales Lead</td>\n",
       "      <td>100000.0</td>\n",
       "      <td>130000.0</td>\n",
       "      <td>GBP</td>\n",
       "      <td>3</td>\n",
       "    </tr>\n",
       "    <tr>\n",
       "      <th>1</th>\n",
       "      <td>Marketing Director</td>\n",
       "      <td>110000.0</td>\n",
       "      <td>120000.0</td>\n",
       "      <td>GBP</td>\n",
       "      <td>25</td>\n",
       "    </tr>\n",
       "    <tr>\n",
       "      <th>2</th>\n",
       "      <td>Interim HR Process Lead</td>\n",
       "      <td>450.0</td>\n",
       "      <td>550.0</td>\n",
       "      <td>GBP</td>\n",
       "      <td>35</td>\n",
       "    </tr>\n",
       "    <tr>\n",
       "      <th>3</th>\n",
       "      <td>Senior Account Executive</td>\n",
       "      <td>100000.0</td>\n",
       "      <td>150000.0</td>\n",
       "      <td>GBP</td>\n",
       "      <td>3</td>\n",
       "    </tr>\n",
       "    <tr>\n",
       "      <th>4</th>\n",
       "      <td>Sales Consultant</td>\n",
       "      <td>90000.0</td>\n",
       "      <td>130000.0</td>\n",
       "      <td>GBP</td>\n",
       "      <td>7</td>\n",
       "    </tr>\n",
       "    <tr>\n",
       "      <th>...</th>\n",
       "      <td>...</td>\n",
       "      <td>...</td>\n",
       "      <td>...</td>\n",
       "      <td>...</td>\n",
       "      <td>...</td>\n",
       "    </tr>\n",
       "    <tr>\n",
       "      <th>91</th>\n",
       "      <td>Sales &amp; Marketing Director</td>\n",
       "      <td>80000.0</td>\n",
       "      <td>100000.0</td>\n",
       "      <td>GBP</td>\n",
       "      <td>21</td>\n",
       "    </tr>\n",
       "    <tr>\n",
       "      <th>92</th>\n",
       "      <td>Head of Consumer Insights &amp; Strategic Marketing</td>\n",
       "      <td>100000.0</td>\n",
       "      <td>100000.0</td>\n",
       "      <td>GBP</td>\n",
       "      <td>17</td>\n",
       "    </tr>\n",
       "    <tr>\n",
       "      <th>93</th>\n",
       "      <td>Chief Marketing Officer</td>\n",
       "      <td>80000.0</td>\n",
       "      <td>110000.0</td>\n",
       "      <td>GBP</td>\n",
       "      <td>2</td>\n",
       "    </tr>\n",
       "    <tr>\n",
       "      <th>94</th>\n",
       "      <td>Regional Sales Director - Ascot</td>\n",
       "      <td>51000.0</td>\n",
       "      <td>120000.0</td>\n",
       "      <td>GBP</td>\n",
       "      <td>0</td>\n",
       "    </tr>\n",
       "    <tr>\n",
       "      <th>98</th>\n",
       "      <td>HR Systems Manager</td>\n",
       "      <td>300.0</td>\n",
       "      <td>450.0</td>\n",
       "      <td>GBP</td>\n",
       "      <td>0</td>\n",
       "    </tr>\n",
       "  </tbody>\n",
       "</table>\n",
       "<p>74 rows × 5 columns</p>\n",
       "</div>"
      ],
      "text/plain": [
       "                                           jobTitle  minimumSalary  \\\n",
       "0             Sanctions Screening Client Sales Lead       100000.0   \n",
       "1                                Marketing Director       110000.0   \n",
       "2                          Interim HR Process Lead           450.0   \n",
       "3                          Senior Account Executive       100000.0   \n",
       "4                                  Sales Consultant        90000.0   \n",
       "..                                              ...            ...   \n",
       "91                       Sales & Marketing Director        80000.0   \n",
       "92  Head of Consumer Insights & Strategic Marketing       100000.0   \n",
       "93                          Chief Marketing Officer        80000.0   \n",
       "94                  Regional Sales Director - Ascot        51000.0   \n",
       "98                               HR Systems Manager          300.0   \n",
       "\n",
       "    maximumSalary currency  applications  \n",
       "0        130000.0      GBP             3  \n",
       "1        120000.0      GBP            25  \n",
       "2           550.0      GBP            35  \n",
       "3        150000.0      GBP             3  \n",
       "4        130000.0      GBP             7  \n",
       "..            ...      ...           ...  \n",
       "91       100000.0      GBP            21  \n",
       "92       100000.0      GBP            17  \n",
       "93       110000.0      GBP             2  \n",
       "94       120000.0      GBP             0  \n",
       "98          450.0      GBP             0  \n",
       "\n",
       "[74 rows x 5 columns]"
      ]
     },
     "execution_count": 55,
     "metadata": {},
     "output_type": "execute_result"
    }
   ],
   "source": [
    "df"
   ]
  },
  {
   "cell_type": "markdown",
   "metadata": {},
   "source": [
    "### Transformation 4\n",
    "Validate that there are no duplicate jobs postings pulled from the API. "
   ]
  },
  {
   "cell_type": "code",
   "execution_count": 58,
   "metadata": {},
   "outputs": [
    {
     "data": {
      "text/plain": [
       "True"
      ]
     },
     "execution_count": 58,
     "metadata": {},
     "output_type": "execute_result"
    }
   ],
   "source": [
    "boolean = not df[\"jobTitle\"].is_unique     \n",
    "boolean"
   ]
  },
  {
   "cell_type": "code",
   "execution_count": 60,
   "metadata": {},
   "outputs": [
    {
     "data": {
      "text/plain": [
       "True"
      ]
     },
     "execution_count": 60,
     "metadata": {},
     "output_type": "execute_result"
    }
   ],
   "source": [
    "boolean = df['jobTitle'].duplicated().any() \n",
    "boolean"
   ]
  },
  {
   "cell_type": "markdown",
   "metadata": {},
   "source": [
    "#### Transformation 5\n",
    "The final step is to categorize the jobs by department and aggregate the data so that we can provide insights to the existing employee data. "
   ]
  },
  {
   "cell_type": "code",
   "execution_count": 18,
   "metadata": {},
   "outputs": [
    {
     "name": "stdout",
     "output_type": "stream",
     "text": [
      "['Sanctions Screening Client Sales Lead' 'Marketing Director'\n",
      " 'Interim HR Process Lead ' 'Senior Account Executive' 'Sales Consultant'\n",
      " 'National Sales Manager / Sales Director - LegalTech/PropertyTech'\n",
      " 'Marketing Campaign Manager - SC Cleared - Contract' 'Sales Executive '\n",
      " 'Specification Sales Manager - Wall Partition Systems'\n",
      " 'Sales Closer - Financial Services' 'Interim Senior HR Business Partner'\n",
      " 'Cloud Pre-sales Architect' 'Marketing & Brand Consultant'\n",
      " 'Sales Apprentice' 'Digital Marketing Coordinator'\n",
      " 'Head of Sales Operations' 'Senior Medical Writer pharmacovigilance'\n",
      " 'UK Sales Manager Intralogistics' 'Cloud Security Sales Specialist'\n",
      " 'Head of Sales - Middle East' 'B2B Sales Manager'\n",
      " 'Sales / Business Development - DLT / Blockchain, ESG, Sustainable Finance - EMEA - Remote'\n",
      " 'Client Biller Marketing Agency' 'HR Officer'\n",
      " 'Solution Architect - HR Systems' 'Sales Manager' 'Institutional Sales'\n",
      " 'Sales Director'\n",
      " 'Enterprise Sales\\xa0- Cloud, Digital Transformation, UC & Security Solutions'\n",
      " 'Medical Scientist' 'Sales and Marketing Director - Work From Home'\n",
      " 'Salesforce Marketing Cloud Specialist'\n",
      " 'General Manager - Sales & Distribution' 'Head of HR'\n",
      " 'Digital Marketing Director ' 'Chief Marketing Officer'\n",
      " 'Insurance Sales Executive' 'Manager of Territory Accounts '\n",
      " 'HR Change Assistant Manager' 'Digital Growth Marketing Manager contract'\n",
      " 'Interim Director of Marketing Exco-1 - Listed Business'\n",
      " 'Graduate Sales Executive' 'HR Process Mapping Lead Workday'\n",
      " 'Consultant Psychiatrist' 'Head of Product Marketing - Loyalty'\n",
      " 'HR Advisor' 'Future Talent Team HR Advisor'\n",
      " 'Director of Customer & Marketing'\n",
      " 'Head of Digital Marketing (Hybrid Working)'\n",
      " 'Head of Marketing (Hybrid Working)'\n",
      " 'Sales & Business Development Lead - AI/Data/Remote' 'Nurse Practitioner'\n",
      " 'Sales Advisor' 'Sales and Leasing Agent' 'Head of Marketing'\n",
      " 'Sales and Business Partner - Recruitment Resourcer Remote'\n",
      " 'European Sales Manager ' 'Senior HR Manager, Operations and Benefits'\n",
      " 'Interim Director, People and Organisational Development'\n",
      " 'Sales - Broker Investments  £150K OTE'\n",
      " 'Sales Closer Investment Broker - V High Income'\n",
      " 'Chief Marketing Officer ' 'Sales Broker Executive Investments'\n",
      " 'Luxury Car Dealership Sales Executive' 'Head of Sales Contact Centre'\n",
      " 'Head of Business Development / Institutional Sales'\n",
      " 'Head of Operational Human Resources'\n",
      " 'New Business Sales - Digital Transformation, Cloud, Uc & Security Solutions'\n",
      " 'Software Solutions Sales Executives / Account Managers'\n",
      " 'Head of Residential Sales'\n",
      " 'Digital Marketing and Communications Manager'\n",
      " 'Sales Ledger Manager 12 month FTC'\n",
      " 'Solution Architect - HR Transformation Programme, ERP'\n",
      " 'Head Of People, HR Director' 'Marketing & Engagement Manager - Pharma'\n",
      " 'HR Technology Framework Lead'\n",
      " 'Medical Writer - clinical and regulatory documents'\n",
      " 'Sales & Marketing Director'\n",
      " 'Head of Consumer Insights & Strategic Marketing'\n",
      " 'Regional Sales Director - Ascot' 'Associate Product Marketing Manager'\n",
      " 'Regional Sales Lead' 'Head of Brand & Marketing Creative (Remote)'\n",
      " 'HR Systems Manager' 'HR Transformation Assistant Manager']\n"
     ]
    }
   ],
   "source": [
    "print(df['jobTitle'].unique())"
   ]
  },
  {
   "cell_type": "code",
   "execution_count": 64,
   "metadata": {},
   "outputs": [],
   "source": [
    "## Create input dataframe using copy to clipboard\n",
    "\n",
    "department = ['Sales', 'Sales', 'Human Resources', 'Sales', 'Sales', 'Sales', 'Sales', 'Sales', 'Sales', 'Sales', 'Sales', 'Human Resources', 'Sales', 'Sales', 'Sales', 'Sales', 'Sales', 'Sales', 'Human Resources', 'Sales', 'Sales', 'Sales', 'Sales', 'Healthcare', 'Sales', 'Sales', 'Sales', 'Sales', 'Sales', 'Sales', 'Sales', 'Human Resources', 'Sales', 'Sales', 'Human Resources', 'Healthcare', 'Sales', 'Sales', 'Sales', 'Sales', 'Sales', 'Healthcare', 'Sales', 'Sales', 'Sales', 'Sales', 'Sales', 'Human Resources', 'Other', 'Acounting and Finance', 'Acounting and Finance', 'Sales', 'Acounting and Finance', 'Sales', 'Sales', 'Sales', 'Sales', 'Sales', 'Sales', 'Sales', 'Sales', 'Sales', 'Sales', 'Sales', 'Human Resources', 'Human Resources', 'Healthcare', 'Human Resources', 'Healthcare', 'Sales', 'Sales', 'Sales', 'Sales', 'Human Resources']"
   ]
  },
  {
   "cell_type": "code",
   "execution_count": 65,
   "metadata": {},
   "outputs": [],
   "source": [
    "df['Department'] = department"
   ]
  },
  {
   "cell_type": "code",
   "execution_count": 66,
   "metadata": {},
   "outputs": [
    {
     "data": {
      "text/html": [
       "<div>\n",
       "<style scoped>\n",
       "    .dataframe tbody tr th:only-of-type {\n",
       "        vertical-align: middle;\n",
       "    }\n",
       "\n",
       "    .dataframe tbody tr th {\n",
       "        vertical-align: top;\n",
       "    }\n",
       "\n",
       "    .dataframe thead th {\n",
       "        text-align: right;\n",
       "    }\n",
       "</style>\n",
       "<table border=\"1\" class=\"dataframe\">\n",
       "  <thead>\n",
       "    <tr style=\"text-align: right;\">\n",
       "      <th></th>\n",
       "      <th>jobTitle</th>\n",
       "      <th>minimumSalary</th>\n",
       "      <th>maximumSalary</th>\n",
       "      <th>currency</th>\n",
       "      <th>applications</th>\n",
       "      <th>Department</th>\n",
       "    </tr>\n",
       "  </thead>\n",
       "  <tbody>\n",
       "    <tr>\n",
       "      <th>0</th>\n",
       "      <td>Sanctions Screening Client Sales Lead</td>\n",
       "      <td>100000.0</td>\n",
       "      <td>130000.0</td>\n",
       "      <td>GBP</td>\n",
       "      <td>3</td>\n",
       "      <td>Sales</td>\n",
       "    </tr>\n",
       "    <tr>\n",
       "      <th>1</th>\n",
       "      <td>Marketing Director</td>\n",
       "      <td>110000.0</td>\n",
       "      <td>120000.0</td>\n",
       "      <td>GBP</td>\n",
       "      <td>25</td>\n",
       "      <td>Sales</td>\n",
       "    </tr>\n",
       "    <tr>\n",
       "      <th>2</th>\n",
       "      <td>Interim HR Process Lead</td>\n",
       "      <td>450.0</td>\n",
       "      <td>550.0</td>\n",
       "      <td>GBP</td>\n",
       "      <td>35</td>\n",
       "      <td>Human Resources</td>\n",
       "    </tr>\n",
       "    <tr>\n",
       "      <th>3</th>\n",
       "      <td>Senior Account Executive</td>\n",
       "      <td>100000.0</td>\n",
       "      <td>150000.0</td>\n",
       "      <td>GBP</td>\n",
       "      <td>3</td>\n",
       "      <td>Sales</td>\n",
       "    </tr>\n",
       "    <tr>\n",
       "      <th>4</th>\n",
       "      <td>Sales Consultant</td>\n",
       "      <td>90000.0</td>\n",
       "      <td>130000.0</td>\n",
       "      <td>GBP</td>\n",
       "      <td>7</td>\n",
       "      <td>Sales</td>\n",
       "    </tr>\n",
       "    <tr>\n",
       "      <th>...</th>\n",
       "      <td>...</td>\n",
       "      <td>...</td>\n",
       "      <td>...</td>\n",
       "      <td>...</td>\n",
       "      <td>...</td>\n",
       "      <td>...</td>\n",
       "    </tr>\n",
       "    <tr>\n",
       "      <th>91</th>\n",
       "      <td>Sales &amp; Marketing Director</td>\n",
       "      <td>80000.0</td>\n",
       "      <td>100000.0</td>\n",
       "      <td>GBP</td>\n",
       "      <td>21</td>\n",
       "      <td>Sales</td>\n",
       "    </tr>\n",
       "    <tr>\n",
       "      <th>92</th>\n",
       "      <td>Head of Consumer Insights &amp; Strategic Marketing</td>\n",
       "      <td>100000.0</td>\n",
       "      <td>100000.0</td>\n",
       "      <td>GBP</td>\n",
       "      <td>17</td>\n",
       "      <td>Sales</td>\n",
       "    </tr>\n",
       "    <tr>\n",
       "      <th>93</th>\n",
       "      <td>Chief Marketing Officer</td>\n",
       "      <td>80000.0</td>\n",
       "      <td>110000.0</td>\n",
       "      <td>GBP</td>\n",
       "      <td>2</td>\n",
       "      <td>Sales</td>\n",
       "    </tr>\n",
       "    <tr>\n",
       "      <th>94</th>\n",
       "      <td>Regional Sales Director - Ascot</td>\n",
       "      <td>51000.0</td>\n",
       "      <td>120000.0</td>\n",
       "      <td>GBP</td>\n",
       "      <td>0</td>\n",
       "      <td>Sales</td>\n",
       "    </tr>\n",
       "    <tr>\n",
       "      <th>98</th>\n",
       "      <td>HR Systems Manager</td>\n",
       "      <td>300.0</td>\n",
       "      <td>450.0</td>\n",
       "      <td>GBP</td>\n",
       "      <td>0</td>\n",
       "      <td>Human Resources</td>\n",
       "    </tr>\n",
       "  </tbody>\n",
       "</table>\n",
       "<p>74 rows × 6 columns</p>\n",
       "</div>"
      ],
      "text/plain": [
       "                                           jobTitle  minimumSalary  \\\n",
       "0             Sanctions Screening Client Sales Lead       100000.0   \n",
       "1                                Marketing Director       110000.0   \n",
       "2                          Interim HR Process Lead           450.0   \n",
       "3                          Senior Account Executive       100000.0   \n",
       "4                                  Sales Consultant        90000.0   \n",
       "..                                              ...            ...   \n",
       "91                       Sales & Marketing Director        80000.0   \n",
       "92  Head of Consumer Insights & Strategic Marketing       100000.0   \n",
       "93                          Chief Marketing Officer        80000.0   \n",
       "94                  Regional Sales Director - Ascot        51000.0   \n",
       "98                               HR Systems Manager          300.0   \n",
       "\n",
       "    maximumSalary currency  applications       Department  \n",
       "0        130000.0      GBP             3            Sales  \n",
       "1        120000.0      GBP            25            Sales  \n",
       "2           550.0      GBP            35  Human Resources  \n",
       "3        150000.0      GBP             3            Sales  \n",
       "4        130000.0      GBP             7            Sales  \n",
       "..            ...      ...           ...              ...  \n",
       "91       100000.0      GBP            21            Sales  \n",
       "92       100000.0      GBP            17            Sales  \n",
       "93       110000.0      GBP             2            Sales  \n",
       "94       120000.0      GBP             0            Sales  \n",
       "98          450.0      GBP             0  Human Resources  \n",
       "\n",
       "[74 rows x 6 columns]"
      ]
     },
     "execution_count": 66,
     "metadata": {},
     "output_type": "execute_result"
    }
   ],
   "source": [
    "df"
   ]
  },
  {
   "cell_type": "code",
   "execution_count": 81,
   "metadata": {},
   "outputs": [
    {
     "data": {
      "text/plain": [
       "Sales                    55\n",
       "Human Resources          10\n",
       "Healthcare                5\n",
       "Acounting and Finance     3\n",
       "Other                     1\n",
       "Name: Department, dtype: int64"
      ]
     },
     "execution_count": 81,
     "metadata": {},
     "output_type": "execute_result"
    }
   ],
   "source": [
    "df['Department'].value_counts()"
   ]
  },
  {
   "cell_type": "code",
   "execution_count": 85,
   "metadata": {},
   "outputs": [
    {
     "data": {
      "text/html": [
       "<div>\n",
       "<style scoped>\n",
       "    .dataframe tbody tr th:only-of-type {\n",
       "        vertical-align: middle;\n",
       "    }\n",
       "\n",
       "    .dataframe tbody tr th {\n",
       "        vertical-align: top;\n",
       "    }\n",
       "\n",
       "    .dataframe thead th {\n",
       "        text-align: right;\n",
       "    }\n",
       "</style>\n",
       "<table border=\"1\" class=\"dataframe\">\n",
       "  <thead>\n",
       "    <tr style=\"text-align: right;\">\n",
       "      <th></th>\n",
       "      <th>applications</th>\n",
       "    </tr>\n",
       "    <tr>\n",
       "      <th>Department</th>\n",
       "      <th></th>\n",
       "    </tr>\n",
       "  </thead>\n",
       "  <tbody>\n",
       "    <tr>\n",
       "      <th>Acounting and Finance</th>\n",
       "      <td>18</td>\n",
       "    </tr>\n",
       "    <tr>\n",
       "      <th>Healthcare</th>\n",
       "      <td>5</td>\n",
       "    </tr>\n",
       "    <tr>\n",
       "      <th>Human Resources</th>\n",
       "      <td>185</td>\n",
       "    </tr>\n",
       "    <tr>\n",
       "      <th>Other</th>\n",
       "      <td>4</td>\n",
       "    </tr>\n",
       "    <tr>\n",
       "      <th>Sales</th>\n",
       "      <td>1794</td>\n",
       "    </tr>\n",
       "  </tbody>\n",
       "</table>\n",
       "</div>"
      ],
      "text/plain": [
       "                       applications\n",
       "Department                         \n",
       "Acounting and Finance            18\n",
       "Healthcare                        5\n",
       "Human Resources                 185\n",
       "Other                             4\n",
       "Sales                          1794"
      ]
     },
     "execution_count": 85,
     "metadata": {},
     "output_type": "execute_result"
    }
   ],
   "source": [
    "df.pivot_table(index='Department', values='applications', aggfunc=np.sum)"
   ]
  },
  {
   "cell_type": "code",
   "execution_count": 86,
   "metadata": {},
   "outputs": [
    {
     "data": {
      "text/html": [
       "<div>\n",
       "<style scoped>\n",
       "    .dataframe tbody tr th:only-of-type {\n",
       "        vertical-align: middle;\n",
       "    }\n",
       "\n",
       "    .dataframe tbody tr th {\n",
       "        vertical-align: top;\n",
       "    }\n",
       "\n",
       "    .dataframe thead th {\n",
       "        text-align: right;\n",
       "    }\n",
       "</style>\n",
       "<table border=\"1\" class=\"dataframe\">\n",
       "  <thead>\n",
       "    <tr style=\"text-align: right;\">\n",
       "      <th></th>\n",
       "      <th>minimumSalary</th>\n",
       "    </tr>\n",
       "    <tr>\n",
       "      <th>Department</th>\n",
       "      <th></th>\n",
       "    </tr>\n",
       "  </thead>\n",
       "  <tbody>\n",
       "    <tr>\n",
       "      <th>Acounting and Finance</th>\n",
       "      <td>34333.333333</td>\n",
       "    </tr>\n",
       "    <tr>\n",
       "      <th>Healthcare</th>\n",
       "      <td>53907.700000</td>\n",
       "    </tr>\n",
       "    <tr>\n",
       "      <th>Human Resources</th>\n",
       "      <td>38260.000000</td>\n",
       "    </tr>\n",
       "    <tr>\n",
       "      <th>Other</th>\n",
       "      <td>100000.000000</td>\n",
       "    </tr>\n",
       "    <tr>\n",
       "      <th>Sales</th>\n",
       "      <td>78490.909091</td>\n",
       "    </tr>\n",
       "  </tbody>\n",
       "</table>\n",
       "</div>"
      ],
      "text/plain": [
       "                       minimumSalary\n",
       "Department                          \n",
       "Acounting and Finance   34333.333333\n",
       "Healthcare              53907.700000\n",
       "Human Resources         38260.000000\n",
       "Other                  100000.000000\n",
       "Sales                   78490.909091"
      ]
     },
     "execution_count": 86,
     "metadata": {},
     "output_type": "execute_result"
    }
   ],
   "source": [
    "df.pivot_table(index='Department', values='minimumSalary', aggfunc=np.average)"
   ]
  },
  {
   "cell_type": "code",
   "execution_count": 87,
   "metadata": {},
   "outputs": [
    {
     "data": {
      "text/html": [
       "<div>\n",
       "<style scoped>\n",
       "    .dataframe tbody tr th:only-of-type {\n",
       "        vertical-align: middle;\n",
       "    }\n",
       "\n",
       "    .dataframe tbody tr th {\n",
       "        vertical-align: top;\n",
       "    }\n",
       "\n",
       "    .dataframe thead th {\n",
       "        text-align: right;\n",
       "    }\n",
       "</style>\n",
       "<table border=\"1\" class=\"dataframe\">\n",
       "  <thead>\n",
       "    <tr style=\"text-align: right;\">\n",
       "      <th></th>\n",
       "      <th>maximumSalary</th>\n",
       "    </tr>\n",
       "    <tr>\n",
       "      <th>Department</th>\n",
       "      <th></th>\n",
       "    </tr>\n",
       "  </thead>\n",
       "  <tbody>\n",
       "    <tr>\n",
       "      <th>Acounting and Finance</th>\n",
       "      <td>145000.000000</td>\n",
       "    </tr>\n",
       "    <tr>\n",
       "      <th>Healthcare</th>\n",
       "      <td>62125.400000</td>\n",
       "    </tr>\n",
       "    <tr>\n",
       "      <th>Human Resources</th>\n",
       "      <td>47307.700000</td>\n",
       "    </tr>\n",
       "    <tr>\n",
       "      <th>Other</th>\n",
       "      <td>120000.000000</td>\n",
       "    </tr>\n",
       "    <tr>\n",
       "      <th>Sales</th>\n",
       "      <td>118537.454545</td>\n",
       "    </tr>\n",
       "  </tbody>\n",
       "</table>\n",
       "</div>"
      ],
      "text/plain": [
       "                       maximumSalary\n",
       "Department                          \n",
       "Acounting and Finance  145000.000000\n",
       "Healthcare              62125.400000\n",
       "Human Resources         47307.700000\n",
       "Other                  120000.000000\n",
       "Sales                  118537.454545"
      ]
     },
     "execution_count": 87,
     "metadata": {},
     "output_type": "execute_result"
    }
   ],
   "source": [
    "df.pivot_table(index='Department', values='maximumSalary', aggfunc=np.average)"
   ]
  },
  {
   "cell_type": "code",
   "execution_count": 88,
   "metadata": {},
   "outputs": [
    {
     "data": {
      "text/html": [
       "<div>\n",
       "<style scoped>\n",
       "    .dataframe tbody tr th:only-of-type {\n",
       "        vertical-align: middle;\n",
       "    }\n",
       "\n",
       "    .dataframe tbody tr th {\n",
       "        vertical-align: top;\n",
       "    }\n",
       "\n",
       "    .dataframe thead th {\n",
       "        text-align: right;\n",
       "    }\n",
       "</style>\n",
       "<table border=\"1\" class=\"dataframe\">\n",
       "  <thead>\n",
       "    <tr style=\"text-align: right;\">\n",
       "      <th></th>\n",
       "      <th>Department</th>\n",
       "      <th>Job_Listings</th>\n",
       "      <th>Applications</th>\n",
       "      <th>Average_minimumSalary</th>\n",
       "      <th>Average_maximumSalary</th>\n",
       "    </tr>\n",
       "  </thead>\n",
       "  <tbody>\n",
       "    <tr>\n",
       "      <th>0</th>\n",
       "      <td>Sales</td>\n",
       "      <td>55</td>\n",
       "      <td>1794</td>\n",
       "      <td>78490</td>\n",
       "      <td>118537</td>\n",
       "    </tr>\n",
       "    <tr>\n",
       "      <th>1</th>\n",
       "      <td>Human Resources</td>\n",
       "      <td>10</td>\n",
       "      <td>185</td>\n",
       "      <td>38260</td>\n",
       "      <td>47307</td>\n",
       "    </tr>\n",
       "    <tr>\n",
       "      <th>2</th>\n",
       "      <td>Healthcare</td>\n",
       "      <td>5</td>\n",
       "      <td>5</td>\n",
       "      <td>53907</td>\n",
       "      <td>62125</td>\n",
       "    </tr>\n",
       "    <tr>\n",
       "      <th>3</th>\n",
       "      <td>Accounting and Finance</td>\n",
       "      <td>3</td>\n",
       "      <td>15</td>\n",
       "      <td>34333</td>\n",
       "      <td>145000</td>\n",
       "    </tr>\n",
       "    <tr>\n",
       "      <th>4</th>\n",
       "      <td>Other</td>\n",
       "      <td>1</td>\n",
       "      <td>4</td>\n",
       "      <td>100000</td>\n",
       "      <td>120000</td>\n",
       "    </tr>\n",
       "  </tbody>\n",
       "</table>\n",
       "</div>"
      ],
      "text/plain": [
       "               Department  Job_Listings  Applications  Average_minimumSalary  \\\n",
       "0                   Sales            55          1794                  78490   \n",
       "1         Human Resources            10           185                  38260   \n",
       "2              Healthcare             5             5                  53907   \n",
       "3  Accounting and Finance             3            15                  34333   \n",
       "4                   Other             1             4                 100000   \n",
       "\n",
       "   Average_maximumSalary  \n",
       "0                 118537  \n",
       "1                  47307  \n",
       "2                  62125  \n",
       "3                 145000  \n",
       "4                 120000  "
      ]
     },
     "execution_count": 88,
     "metadata": {},
     "output_type": "execute_result"
    }
   ],
   "source": [
    "Data = {'Department': ['Sales', 'Human Resources', 'Healthcare', 'Accounting and Finance', 'Other'],\n",
    "        'Job_Listings': [55, 10, 5, 3, 1],\n",
    "        'Applications': [1794, 185, 5, 15, 4],\n",
    "        'Average_minimumSalary': [78490, 38260, 53907, 34333, 100000], \n",
    "        'Average_maximumSalary': [118537, 47307, 62125, 145000, 120000]}\n",
    "\n",
    "df_final = pd.DataFrame(Data)\n",
    "\n",
    "df_final\n"
   ]
  },
  {
   "cell_type": "markdown",
   "metadata": {},
   "source": [
    "### Implications and Considerations\n",
    "This final table has a significantly smaller sample size than the original flat file. Sales had the most job listings and applications submitted, which makes it the most reliable department out of the sample. However, for real-world application, a longer processing time and pull from the API would be required to get the most comprehensive averages and look at the current job market available. Ideally, this would also be pulled from an American job postings board (or wherever the source data originates). Since the data in the project is fabricated, no additional social considerations can be made of the sample population. In a real-world scenario, engagement with key HR business partners, Legal, and Privacy would be required in order to facilitate conversations regarding employee data and talent acquisition and retention. "
   ]
  },
  {
   "cell_type": "code",
   "execution_count": 89,
   "metadata": {},
   "outputs": [],
   "source": [
    "df_final.to_excel(\"milestone_4.xlsx\") "
   ]
  }
 ],
 "metadata": {
  "kernelspec": {
   "display_name": "Python 3",
   "language": "python",
   "name": "python3"
  },
  "language_info": {
   "codemirror_mode": {
    "name": "ipython",
    "version": 3
   },
   "file_extension": ".py",
   "mimetype": "text/x-python",
   "name": "python",
   "nbconvert_exporter": "python",
   "pygments_lexer": "ipython3",
   "version": "3.6.10"
  }
 },
 "nbformat": 4,
 "nbformat_minor": 5
}
